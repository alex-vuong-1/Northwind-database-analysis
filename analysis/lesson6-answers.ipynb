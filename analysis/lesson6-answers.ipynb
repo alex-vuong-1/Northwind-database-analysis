{
    "metadata": {
        "kernelspec": {
            "name": "SQL",
            "display_name": "SQL",
            "language": "sql"
        },
        "language_info": {
            "name": "sql",
            "version": ""
        }
    },
    "nbformat_minor": 2,
    "nbformat": 4,
    "cells": [
        {
            "cell_type": "markdown",
            "source": [
                "# Lesson 6 - Northwind retail analysis"
            ],
            "metadata": {
                "azdata_cell_guid": "53903646-7b41-4577-8a21-aacf1ee17ff4"
            },
            "attachments": {}
        },
        {
            "cell_type": "code",
            "source": [
                "USE lesson6_northwind;"
            ],
            "metadata": {
                "azdata_cell_guid": "40cf3d35-8c0f-4dde-a19b-9dd17bbd2ce4",
                "language": "sql"
            },
            "outputs": [
                {
                    "output_type": "display_data",
                    "data": {
                        "text/html": "Commands completed successfully"
                    },
                    "metadata": {}
                },
                {
                    "output_type": "display_data",
                    "data": {
                        "text/html": "Total execution time: 00:00:00.293"
                    },
                    "metadata": {}
                }
            ],
            "execution_count": 3
        },
        {
            "cell_type": "markdown",
            "source": [
                "### 1. Create a simple table Countries including columns `CountryID`, `CountryName`. What data type should the `CountryName` has according to previously made tables?"
            ],
            "metadata": {
                "azdata_cell_guid": "5d060421-426b-4c39-975f-95492d0d1326"
            },
            "attachments": {}
        },
        {
            "cell_type": "code",
            "source": [
                "SELECT DISTINCT Country FROM Suppliers;"
            ],
            "metadata": {
                "azdata_cell_guid": "92491916-641e-4b14-a2e4-060b19521e9a",
                "language": "sql"
            },
            "outputs": [
                {
                    "output_type": "display_data",
                    "data": {
                        "text/html": "(16 row(s) affected)"
                    },
                    "metadata": {}
                },
                {
                    "output_type": "display_data",
                    "data": {
                        "text/html": "Total execution time: 00:00:01.321"
                    },
                    "metadata": {}
                },
                {
                    "output_type": "execute_result",
                    "metadata": {},
                    "execution_count": 4,
                    "data": {
                        "application/vnd.dataresource+json": {
                            "schema": {
                                "fields": [
                                    {
                                        "name": "Country"
                                    }
                                ]
                            },
                            "data": [
                                {
                                    "Country": "UK"
                                },
                                {
                                    "Country": "USA"
                                },
                                {
                                    "Country": "Japan"
                                },
                                {
                                    "Country": "Spain"
                                },
                                {
                                    "Country": "Australia"
                                },
                                {
                                    "Country": "Sweden "
                                },
                                {
                                    "Country": "Brazil"
                                },
                                {
                                    "Country": "Germany"
                                },
                                {
                                    "Country": "Italy"
                                },
                                {
                                    "Country": "Norway"
                                },
                                {
                                    "Country": "France"
                                },
                                {
                                    "Country": "Singapore"
                                },
                                {
                                    "Country": "Denmark"
                                },
                                {
                                    "Country": "Netherlands"
                                },
                                {
                                    "Country": "Finland"
                                },
                                {
                                    "Country": "Canada"
                                }
                            ]
                        },
                        "text/html": [
                            "<table>",
                            "<tr><th>Country</th></tr>",
                            "<tr><td>UK</td></tr>",
                            "<tr><td>USA</td></tr>",
                            "<tr><td>Japan</td></tr>",
                            "<tr><td>Spain</td></tr>",
                            "<tr><td>Australia</td></tr>",
                            "<tr><td>Sweden </td></tr>",
                            "<tr><td>Brazil</td></tr>",
                            "<tr><td>Germany</td></tr>",
                            "<tr><td>Italy</td></tr>",
                            "<tr><td>Norway</td></tr>",
                            "<tr><td>France</td></tr>",
                            "<tr><td>Singapore</td></tr>",
                            "<tr><td>Denmark</td></tr>",
                            "<tr><td>Netherlands</td></tr>",
                            "<tr><td>Finland</td></tr>",
                            "<tr><td>Canada</td></tr>",
                            "</table>"
                        ]
                    }
                }
            ],
            "execution_count": 4
        },
        {
            "cell_type": "code",
            "source": [
                "SELECT DISTINCT Country FROM Employees;"
            ],
            "metadata": {
                "language": "sql",
                "azdata_cell_guid": "70405e85-de2a-4722-a5e4-a4777d369a3f"
            },
            "outputs": [
                {
                    "output_type": "display_data",
                    "data": {
                        "text/html": "(4 row(s) affected)"
                    },
                    "metadata": {}
                },
                {
                    "output_type": "display_data",
                    "data": {
                        "text/html": "Total execution time: 00:00:01.754"
                    },
                    "metadata": {}
                },
                {
                    "output_type": "execute_result",
                    "metadata": {},
                    "execution_count": 5,
                    "data": {
                        "application/vnd.dataresource+json": {
                            "schema": {
                                "fields": [
                                    {
                                        "name": "Country"
                                    }
                                ]
                            },
                            "data": [
                                {
                                    "Country": "USA"
                                },
                                {
                                    "Country": "UK"
                                },
                                {
                                    "Country": "Australia"
                                },
                                {
                                    "Country": "AU"
                                }
                            ]
                        },
                        "text/html": [
                            "<table>",
                            "<tr><th>Country</th></tr>",
                            "<tr><td>USA</td></tr>",
                            "<tr><td>UK</td></tr>",
                            "<tr><td>Australia</td></tr>",
                            "<tr><td>AU</td></tr>",
                            "</table>"
                        ]
                    }
                }
            ],
            "execution_count": 5
        },
        {
            "cell_type": "code",
            "source": [
                "DROP TABLE Countries;\r\n",
                "\r\n",
                "CREATE TABLE IF NOT EXISTS Countries (\r\n",
                "  CountryID INT AUTO_INCREMENT PRIMARY KEY,\r\n",
                "  CountryName VARCHAR(15) NOT NULL UNIQUE\r\n",
                ");\r\n",
                "\r\n",
                "SHOW TABLES;"
            ],
            "metadata": {
                "language": "sql",
                "azdata_cell_guid": "910f654e-4673-4a1d-8050-5c4a546717af"
            },
            "outputs": [
                {
                    "output_type": "display_data",
                    "data": {
                        "text/html": "Total execution time: 00:00:00.341"
                    },
                    "metadata": {}
                },
                {
                    "output_type": "error",
                    "evalue": "3730 (HY000): Cannot drop table 'Countries' referenced by a foreign key constraint 'fk_suppliers_countryid' on table 'Suppliers'.",
                    "ename": "",
                    "traceback": []
                }
            ],
            "execution_count": 10
        },
        {
            "cell_type": "markdown",
            "source": [
                "### 2. Can you insert some sample data for the country table? Use existing data of any given countries from all other tables."
            ],
            "metadata": {
                "language": "sql",
                "azdata_cell_guid": "6745a377-930f-4cfd-b178-d670e3b93593"
            },
            "attachments": {}
        },
        {
            "cell_type": "code",
            "source": [
                "INSERT INTO Countries (CountryName)\r\n",
                "SELECT DISTINCT Country\r\n",
                "FROM Suppliers\r\n",
                "WHERE Country IS NOT NULL;"
            ],
            "metadata": {
                "azdata_cell_guid": "c6c25c58-b69c-40fb-853b-418990a03b32",
                "language": "sql"
            },
            "outputs": [],
            "execution_count": null
        },
        {
            "cell_type": "code",
            "source": [
                "SELECT * FROM Countries;"
            ],
            "metadata": {
                "language": "sql",
                "azdata_cell_guid": "dd49c650-25cf-4f1f-bac2-7c313d057adb"
            },
            "outputs": [
                {
                    "output_type": "display_data",
                    "data": {
                        "text/html": "(16 row(s) affected)"
                    },
                    "metadata": {}
                },
                {
                    "output_type": "display_data",
                    "data": {
                        "text/html": "Total execution time: 00:00:01.308"
                    },
                    "metadata": {}
                },
                {
                    "output_type": "execute_result",
                    "metadata": {},
                    "execution_count": 9,
                    "data": {
                        "application/vnd.dataresource+json": {
                            "schema": {
                                "fields": [
                                    {
                                        "name": "CountryID"
                                    },
                                    {
                                        "name": "CountryName"
                                    }
                                ]
                            },
                            "data": [
                                {
                                    "CountryID": "67",
                                    "CountryName": "Australia"
                                },
                                {
                                    "CountryID": "69",
                                    "CountryName": "Brazil"
                                },
                                {
                                    "CountryID": "78",
                                    "CountryName": "Canada"
                                },
                                {
                                    "CountryID": "75",
                                    "CountryName": "Denmark"
                                },
                                {
                                    "CountryID": "77",
                                    "CountryName": "Finland"
                                },
                                {
                                    "CountryID": "73",
                                    "CountryName": "France"
                                },
                                {
                                    "CountryID": "70",
                                    "CountryName": "Germany"
                                },
                                {
                                    "CountryID": "71",
                                    "CountryName": "Italy"
                                },
                                {
                                    "CountryID": "65",
                                    "CountryName": "Japan"
                                },
                                {
                                    "CountryID": "76",
                                    "CountryName": "Netherlands"
                                },
                                {
                                    "CountryID": "72",
                                    "CountryName": "Norway"
                                },
                                {
                                    "CountryID": "74",
                                    "CountryName": "Singapore"
                                },
                                {
                                    "CountryID": "66",
                                    "CountryName": "Spain"
                                },
                                {
                                    "CountryID": "68",
                                    "CountryName": "Sweden "
                                },
                                {
                                    "CountryID": "63",
                                    "CountryName": "UK"
                                },
                                {
                                    "CountryID": "64",
                                    "CountryName": "USA"
                                }
                            ]
                        },
                        "text/html": [
                            "<table>",
                            "<tr><th>CountryID</th><th>CountryName</th></tr>",
                            "<tr><td>67</td><td>Australia</td></tr>",
                            "<tr><td>69</td><td>Brazil</td></tr>",
                            "<tr><td>78</td><td>Canada</td></tr>",
                            "<tr><td>75</td><td>Denmark</td></tr>",
                            "<tr><td>77</td><td>Finland</td></tr>",
                            "<tr><td>73</td><td>France</td></tr>",
                            "<tr><td>70</td><td>Germany</td></tr>",
                            "<tr><td>71</td><td>Italy</td></tr>",
                            "<tr><td>65</td><td>Japan</td></tr>",
                            "<tr><td>76</td><td>Netherlands</td></tr>",
                            "<tr><td>72</td><td>Norway</td></tr>",
                            "<tr><td>74</td><td>Singapore</td></tr>",
                            "<tr><td>66</td><td>Spain</td></tr>",
                            "<tr><td>68</td><td>Sweden </td></tr>",
                            "<tr><td>63</td><td>UK</td></tr>",
                            "<tr><td>64</td><td>USA</td></tr>",
                            "</table>"
                        ]
                    }
                }
            ],
            "execution_count": 9
        },
        {
            "cell_type": "code",
            "source": [
                "ALTER TABLE Suppliers\r\n",
                "ADD COLUMN CountryID INT;\r\n",
                "\r\n",
                "ALTER TABLE Suppliers\r\n",
                "ADD CONSTRAINT fk_suppliers_countryid\r\n",
                "FOREIGN KEY (CountryID) REFERENCES Countries(CountryID);\r\n",
                "\r\n",
                "UPDATE Suppliers s\r\n",
                "JOIN Countries c ON s.Country = c.CountryName\r\n",
                "SET s.CountryID = c.CountryID;\r\n",
                "\r\n",
                "SELECT * FROM Suppliers;"
            ],
            "metadata": {
                "language": "sql",
                "azdata_cell_guid": "2b85ab4d-99d8-4072-9b79-b6a0b44d1eca",
                "tags": []
            },
            "outputs": [],
            "execution_count": null
        },
        {
            "cell_type": "markdown",
            "source": [
                "### 3. I have a list of employees which are NOT imported into the database tables. Download it here. Can you help me import this file?"
            ],
            "metadata": {
                "azdata_cell_guid": "f157f6b6-b185-4af8-be0c-019194594e18"
            },
            "attachments": {}
        },
        {
            "cell_type": "code",
            "source": [
                "SELECT * FROM Employees;\r\n",
                "\r\n",
                "SHOW COLUMNS FROM Employees;"
            ],
            "metadata": {
                "azdata_cell_guid": "30f8cd49-4ccc-464f-b70b-47493209fc45",
                "language": "sql"
            },
            "outputs": [
                {
                    "output_type": "display_data",
                    "data": {
                        "text/html": "(31 row(s) affected)"
                    },
                    "metadata": {}
                },
                {
                    "output_type": "display_data",
                    "data": {
                        "text/html": "(19 row(s) affected)"
                    },
                    "metadata": {}
                },
                {
                    "output_type": "display_data",
                    "data": {
                        "text/html": "Total execution time: 00:00:02.621"
                    },
                    "metadata": {}
                },
                {
                    "output_type": "execute_result",
                    "metadata": {},
                    "execution_count": 12,
                    "data": {
                        "application/vnd.dataresource+json": {
                            "schema": {
                                "fields": [
                                    {
                                        "name": "EmployeeID"
                                    },
                                    {
                                        "name": "LastName"
                                    },
                                    {
                                        "name": "FirstName"
                                    },
                                    {
                                        "name": "Title"
                                    },
                                    {
                                        "name": "TitleOfCourtesy"
                                    },
                                    {
                                        "name": "BirthDate"
                                    },
                                    {
                                        "name": "HireDate"
                                    },
                                    {
                                        "name": "Address"
                                    },
                                    {
                                        "name": "City"
                                    },
                                    {
                                        "name": "Region"
                                    },
                                    {
                                        "name": "PostalCode"
                                    },
                                    {
                                        "name": "Country"
                                    },
                                    {
                                        "name": "HomePhone"
                                    },
                                    {
                                        "name": "Extension"
                                    },
                                    {
                                        "name": "Notes"
                                    },
                                    {
                                        "name": "ReportsTo"
                                    },
                                    {
                                        "name": "PhotoPath"
                                    },
                                    {
                                        "name": "Salary"
                                    },
                                    {
                                        "name": "IsManager"
                                    }
                                ]
                            },
                            "data": [
                                {
                                    "EmployeeID": "1",
                                    "LastName": "Davolio",
                                    "FirstName": "Nancy",
                                    "Title": "Sales Representative",
                                    "TitleOfCourtesy": "Ms.",
                                    "BirthDate": "1948-12-08 00:00:00",
                                    "HireDate": "1992-05-01 00:00:00",
                                    "Address": "507 - 20th Ave. E.Apt. 2A",
                                    "City": "Seattle",
                                    "Region": "WA",
                                    "PostalCode": "98122",
                                    "Country": "USA",
                                    "HomePhone": "(206) 555-9857",
                                    "Extension": "5467",
                                    "Notes": "Education includes a BA in psychology from Colorado State University in 1970.  She also completed \"The Art of the Cold Call.\"  Nancy is a member of Toastmasters International.",
                                    "ReportsTo": "2",
                                    "PhotoPath": "http://accweb/emmployees/davolio.bmp",
                                    "Salary": "2954.55",
                                    "IsManager": "0"
                                },
                                {
                                    "EmployeeID": "2",
                                    "LastName": "Fuller",
                                    "FirstName": "Andrew",
                                    "Title": "Vice President, Sales",
                                    "TitleOfCourtesy": "Dr.",
                                    "BirthDate": "1952-02-19 00:00:00",
                                    "HireDate": "1992-08-14 00:00:00",
                                    "Address": "908 W. Capital Way",
                                    "City": "Tacoma",
                                    "Region": "WA",
                                    "PostalCode": "98401",
                                    "Country": "USA",
                                    "HomePhone": "(206) 555-9482",
                                    "Extension": "3457",
                                    "Notes": "Andrew received his BTS commercial in 1974 and a Ph.D. in international marketing from the University of Dallas in 1981.  He is fluent in French and Italian and reads German.  He joined the company as a sales representative, was promoted to sales manager in January 1992 and to vice president of sales in March 1993.  Andrew is a member of the Sales Management Roundtable, the Seattle Chamber of Commerce, and the Pacific Rim Importers Association.",
                                    "ReportsTo": "NULL",
                                    "PhotoPath": "http://accweb/emmployees/fuller.bmp",
                                    "Salary": "2254.49",
                                    "IsManager": "1"
                                },
                                {
                                    "EmployeeID": "3",
                                    "LastName": "Leverling",
                                    "FirstName": "Janet",
                                    "Title": "Sales Representative",
                                    "TitleOfCourtesy": "Ms.",
                                    "BirthDate": "1963-08-30 00:00:00",
                                    "HireDate": "1992-04-01 00:00:00",
                                    "Address": "722 Moss Bay Blvd.",
                                    "City": "Kirkland",
                                    "Region": "WA",
                                    "PostalCode": "98033",
                                    "Country": "USA",
                                    "HomePhone": "(206) 555-3412",
                                    "Extension": "3355",
                                    "Notes": "Janet has a BS degree in chemistry from Boston College (1984).  She has also completed a certificate program in food retailing management.  Janet was hired as a sales associate in 1991 and promoted to sales representative in February 1992.",
                                    "ReportsTo": "2",
                                    "PhotoPath": "http://accweb/emmployees/leverling.bmp",
                                    "Salary": "3119.15",
                                    "IsManager": "0"
                                },
                                {
                                    "EmployeeID": "4",
                                    "LastName": "Peacock",
                                    "FirstName": "Margaret",
                                    "Title": "Sales Representative",
                                    "TitleOfCourtesy": "Mrs.",
                                    "BirthDate": "1937-09-19 00:00:00",
                                    "HireDate": "1993-05-03 00:00:00",
                                    "Address": "4110 Old Redmond Rd.",
                                    "City": "Redmond",
                                    "Region": "WA",
                                    "PostalCode": "98052",
                                    "Country": "USA",
                                    "HomePhone": "(206) 555-8122",
                                    "Extension": "5176",
                                    "Notes": "Margaret holds a BA in English literature from Concordia College (1958) and an MA from the American Institute of Culinary Arts (1966).  She was assigned to the London office temporarily from July through November 1992.",
                                    "ReportsTo": "2",
                                    "PhotoPath": "http://accweb/emmployees/peacock.bmp",
                                    "Salary": "1861.08",
                                    "IsManager": "0"
                                },
                                {
                                    "EmployeeID": "5",
                                    "LastName": "Buchanan",
                                    "FirstName": "Steven",
                                    "Title": "Sales Manager",
                                    "TitleOfCourtesy": "Mr.",
                                    "BirthDate": "1955-03-04 00:00:00",
                                    "HireDate": "1993-10-17 00:00:00",
                                    "Address": "14 Garrett Hill",
                                    "City": "London",
                                    "Region": "NULL",
                                    "PostalCode": "SW1 8JR",
                                    "Country": "UK",
                                    "HomePhone": "(71) 555-4848",
                                    "Extension": "3453",
                                    "Notes": "Steven Buchanan graduated from St. Andrews University, Scotland, with a BSC degree in 1976.  Upon joining the company as a sales representative in 1992, he spent 6 months in an orientation program at the Seattle office and then returned to his permanent post in London.  He was promoted to sales manager in March 1993.  Mr. Buchanan has completed the courses \"Successful Telemarketing\" and \"International Sales Management.\"  He is fluent in French.",
                                    "ReportsTo": "2",
                                    "PhotoPath": "http://accweb/emmployees/buchanan.bmp",
                                    "Salary": "1744.21",
                                    "IsManager": "1"
                                },
                                {
                                    "EmployeeID": "6",
                                    "LastName": "Suyama",
                                    "FirstName": "Michael",
                                    "Title": "Sales Representative",
                                    "TitleOfCourtesy": "Mr.",
                                    "BirthDate": "1963-07-02 00:00:00",
                                    "HireDate": "1993-10-17 00:00:00",
                                    "Address": "Coventry House\r\nMiner Rd.",
                                    "City": "London",
                                    "Region": "NULL",
                                    "PostalCode": "EC2 7JR",
                                    "Country": "UK",
                                    "HomePhone": "(71) 555-7773",
                                    "Extension": "428",
                                    "Notes": "Michael is a graduate of Sussex University (MA, economics, 1983) and the University of California at Los Angeles (MBA, marketing, 1986).  He has also taken the courses \"Multi-Cultural Selling\" and \"Time Management for the Sales Professional.\"  He is fluent in Japanese and can read and write French, Portuguese, and Spanish.",
                                    "ReportsTo": "5",
                                    "PhotoPath": "http://accweb/emmployees/davolio.bmp",
                                    "Salary": "2004.07",
                                    "IsManager": "0"
                                },
                                {
                                    "EmployeeID": "7",
                                    "LastName": "King",
                                    "FirstName": "Robert",
                                    "Title": "Sales Representative",
                                    "TitleOfCourtesy": "Mr.",
                                    "BirthDate": "1960-05-29 00:00:00",
                                    "HireDate": "1994-01-02 00:00:00",
                                    "Address": "Edgeham Hollow\r\nWinchester Way",
                                    "City": "London",
                                    "Region": "NULL",
                                    "PostalCode": "RG1 9SP",
                                    "Country": "UK",
                                    "HomePhone": "(71) 555-5598",
                                    "Extension": "465",
                                    "Notes": "Robert King served in the Peace Corps and traveled extensively before completing his degree in English at the University of Michigan in 1992, the year he joined the company.  After completing a course entitled \"Selling in Europe,\" he was transferred to the London office in March 1993.",
                                    "ReportsTo": "5",
                                    "PhotoPath": "http://accweb/emmployees/davolio.bmp",
                                    "Salary": "1991.55",
                                    "IsManager": "0"
                                },
                                {
                                    "EmployeeID": "8",
                                    "LastName": "Callahan",
                                    "FirstName": "Laura",
                                    "Title": "Inside Sales Coordinator",
                                    "TitleOfCourtesy": "Ms.",
                                    "BirthDate": "1958-01-09 00:00:00",
                                    "HireDate": "1994-03-05 00:00:00",
                                    "Address": "4726 - 11th Ave. N.E.",
                                    "City": "Seattle",
                                    "Region": "WA",
                                    "PostalCode": "98105",
                                    "Country": "USA",
                                    "HomePhone": "(206) 555-1189",
                                    "Extension": "2344",
                                    "Notes": "Laura received a BA in psychology from the University of Washington.  She has also completed a course in business French.  She reads and writes French.",
                                    "ReportsTo": "2",
                                    "PhotoPath": "http://accweb/emmployees/davolio.bmp",
                                    "Salary": "2100.5",
                                    "IsManager": "0"
                                },
                                {
                                    "EmployeeID": "9",
                                    "LastName": "Dodsworth",
                                    "FirstName": "Anne",
                                    "Title": "Sales Representative",
                                    "TitleOfCourtesy": "Ms.",
                                    "BirthDate": "1966-01-27 00:00:00",
                                    "HireDate": "1994-11-15 00:00:00",
                                    "Address": "7 Houndstooth Rd.",
                                    "City": "London",
                                    "Region": "NULL",
                                    "PostalCode": "WG2 7LT",
                                    "Country": "UK",
                                    "HomePhone": "(71) 555-4444",
                                    "Extension": "452",
                                    "Notes": "Anne has a BA degree in English from St. Lawrence College.  She is fluent in French and German.",
                                    "ReportsTo": "5",
                                    "PhotoPath": "http://accweb/emmployees/davolio.bmp",
                                    "Salary": "2333.33",
                                    "IsManager": "0"
                                },
                                {
                                    "EmployeeID": "10",
                                    "LastName": "Nguyen",
                                    "FirstName": "Alex",
                                    "Title": "IT Specialist",
                                    "TitleOfCourtesy": "Mr.",
                                    "BirthDate": "1990-07-12 00:00:00",
                                    "HireDate": "2021-02-15 00:00:00",
                                    "Address": "123 Tech Lane",
                                    "City": "Sydney",
                                    "Region": "NSW",
                                    "PostalCode": "2000",
                                    "Country": "Australia",
                                    "HomePhone": "(02) 555-1000",
                                    "Extension": "100",
                                    "Notes": "Expert in system infrastructure and network security.",
                                    "ReportsTo": "2",
                                    "PhotoPath": "http://accweb/employees/nguyen.bmp",
                                    "Salary": "5100.75",
                                    "IsManager": "1"
                                },
                                {
                                    "EmployeeID": "11",
                                    "LastName": "Tran",
                                    "FirstName": "Linh",
                                    "Title": "HR Manager",
                                    "TitleOfCourtesy": "Ms.",
                                    "BirthDate": "1985-07-19 00:00:00",
                                    "HireDate": "2018-09-01 00:00:00",
                                    "Address": "22 Green Rd",
                                    "City": "Melbourne",
                                    "Region": "VIC",
                                    "PostalCode": "3000",
                                    "Country": "Australia",
                                    "HomePhone": "(03) 555-2345",
                                    "Extension": "101",
                                    "Notes": "Responsible for employee wellbeing and recruitment.",
                                    "ReportsTo": "2",
                                    "PhotoPath": "http://accweb/employees/tran.bmp",
                                    "Salary": "4700.6",
                                    "IsManager": "1"
                                },
                                {
                                    "EmployeeID": "12",
                                    "LastName": "Patel",
                                    "FirstName": "Amit",
                                    "Title": "Logistics Coordinator",
                                    "TitleOfCourtesy": "Mr.",
                                    "BirthDate": "1987-07-04 00:00:00",
                                    "HireDate": "2019-01-10 00:00:00",
                                    "Address": "89 Distribution St",
                                    "City": "Brisbane",
                                    "Region": "QLD",
                                    "PostalCode": "4000",
                                    "Country": "Australia",
                                    "HomePhone": "(07) 555-3234",
                                    "Extension": "102",
                                    "Notes": "Manages transportation and goods flow.",
                                    "ReportsTo": "5",
                                    "PhotoPath": "http://accweb/employees/patel.bmp",
                                    "Salary": "4200.9",
                                    "IsManager": "1"
                                },
                                {
                                    "EmployeeID": "13",
                                    "LastName": "Smith",
                                    "FirstName": "Emily",
                                    "Title": "Finance Officer",
                                    "TitleOfCourtesy": "Mrs.",
                                    "BirthDate": "1992-07-18 00:00:00",
                                    "HireDate": "2020-06-11 00:00:00",
                                    "Address": "14 Accounting Blvd",
                                    "City": "Perth",
                                    "Region": "WA",
                                    "PostalCode": "6000",
                                    "Country": "Australia",
                                    "HomePhone": "(08) 555-4852",
                                    "Extension": "103",
                                    "Notes": "Specialist in financial reporting and budgeting.",
                                    "ReportsTo": "5",
                                    "PhotoPath": "http://accweb/employees/smith.bmp",
                                    "Salary": "4900.0",
                                    "IsManager": "1"
                                },
                                {
                                    "EmployeeID": "14",
                                    "LastName": "Kumar",
                                    "FirstName": "Raj",
                                    "Title": "Marketing Manager",
                                    "TitleOfCourtesy": "Mr.",
                                    "BirthDate": "1984-07-25 00:00:00",
                                    "HireDate": "2017-04-07 00:00:00",
                                    "Address": "66 Ad Street",
                                    "City": "Sydney",
                                    "Region": "NSW",
                                    "PostalCode": "2000",
                                    "Country": "Australia",
                                    "HomePhone": "(02) 555-6789",
                                    "Extension": "104",
                                    "Notes": "Leads campaigns and product launches.",
                                    "ReportsTo": "2",
                                    "PhotoPath": "http://accweb/employees/kumar.bmp",
                                    "Salary": "5300.45",
                                    "IsManager": "1"
                                },
                                {
                                    "EmployeeID": "15",
                                    "LastName": "Lee",
                                    "FirstName": "Jessica",
                                    "Title": "IT Support",
                                    "TitleOfCourtesy": "Ms.",
                                    "BirthDate": "1993-07-14 00:00:00",
                                    "HireDate": "2022-05-03 00:00:00",
                                    "Address": "7 Tech Park Ln",
                                    "City": "Adelaide",
                                    "Region": "SA",
                                    "PostalCode": "5000",
                                    "Country": "Australia",
                                    "HomePhone": "(08) 555-9988",
                                    "Extension": "105",
                                    "Notes": "Provides technical support to all departments.",
                                    "ReportsTo": "10",
                                    "PhotoPath": "http://accweb/employees/lee.bmp",
                                    "Salary": "3800.2",
                                    "IsManager": "0"
                                },
                                {
                                    "EmployeeID": "16",
                                    "LastName": "Chen",
                                    "FirstName": "Victor",
                                    "Title": "HR Assistant",
                                    "TitleOfCourtesy": "Mr.",
                                    "BirthDate": "1995-07-22 00:00:00",
                                    "HireDate": "2021-08-01 00:00:00",
                                    "Address": "98 Talent Ave",
                                    "City": "Darwin",
                                    "Region": "NT",
                                    "PostalCode": "800",
                                    "Country": "Australia",
                                    "HomePhone": "(08) 555-4123",
                                    "Extension": "106",
                                    "Notes": "Assists with onboarding and employee files.",
                                    "ReportsTo": "11",
                                    "PhotoPath": "http://accweb/employees/chen.bmp",
                                    "Salary": "3600.0",
                                    "IsManager": "0"
                                },
                                {
                                    "EmployeeID": "17",
                                    "LastName": "Gonzalez",
                                    "FirstName": "Ana",
                                    "Title": "Supply Chain Analyst",
                                    "TitleOfCourtesy": "Mrs.",
                                    "BirthDate": "1986-07-29 00:00:00",
                                    "HireDate": "2019-12-15 00:00:00",
                                    "Address": "445 Logistics Dr",
                                    "City": "Hobart",
                                    "Region": "TAS",
                                    "PostalCode": "7000",
                                    "Country": "Australia",
                                    "HomePhone": "(03) 555-6598",
                                    "Extension": "107",
                                    "Notes": "Analyzes supply trends and demand forecasts.",
                                    "ReportsTo": "12",
                                    "PhotoPath": "http://accweb/employees/gonzalez.bmp",
                                    "Salary": "4550.65",
                                    "IsManager": "0"
                                },
                                {
                                    "EmployeeID": "18",
                                    "LastName": "Davis",
                                    "FirstName": "Ben",
                                    "Title": "Accountant",
                                    "TitleOfCourtesy": "Mr.",
                                    "BirthDate": "1990-07-11 00:00:00",
                                    "HireDate": "2020-02-20 00:00:00",
                                    "Address": "212 Finance Rd",
                                    "City": "Melbourne",
                                    "Region": "VIC",
                                    "PostalCode": "3000",
                                    "Country": "Australia",
                                    "HomePhone": "(03) 555-1177",
                                    "Extension": "108",
                                    "Notes": "Handles payroll and tax compliance.",
                                    "ReportsTo": "13",
                                    "PhotoPath": "http://accweb/employees/davis.bmp",
                                    "Salary": "4800.45",
                                    "IsManager": "0"
                                },
                                {
                                    "EmployeeID": "19",
                                    "LastName": "Matsuda",
                                    "FirstName": "Yuki",
                                    "Title": "Marketing Assistant",
                                    "TitleOfCourtesy": "Ms.",
                                    "BirthDate": "1996-07-28 00:00:00",
                                    "HireDate": "2023-01-09 00:00:00",
                                    "Address": "34 Campaign Ave",
                                    "City": "Sydney",
                                    "Region": "NSW",
                                    "PostalCode": "2000",
                                    "Country": "Australia",
                                    "HomePhone": "(02) 555-3344",
                                    "Extension": "109",
                                    "Notes": "Supports digital marketing efforts.",
                                    "ReportsTo": "14",
                                    "PhotoPath": "http://accweb/employees/matsuda.bmp",
                                    "Salary": "3400.0",
                                    "IsManager": "0"
                                },
                                {
                                    "EmployeeID": "20",
                                    "LastName": "Wilson",
                                    "FirstName": "Harry",
                                    "Title": "Warehouse Manager",
                                    "TitleOfCourtesy": "Mr.",
                                    "BirthDate": "1983-07-07 00:00:00",
                                    "HireDate": "2016-11-11 00:00:00",
                                    "Address": "75 Storage Dr",
                                    "City": "Brisbane",
                                    "Region": "QLD",
                                    "PostalCode": "4000",
                                    "Country": "Australia",
                                    "HomePhone": "(07) 555-6464",
                                    "Extension": "110",
                                    "Notes": "Oversees inventory and stock levels.",
                                    "ReportsTo": "5",
                                    "PhotoPath": "http://accweb/employees/wilson.bmp",
                                    "Salary": "5100.8",
                                    "IsManager": "1"
                                },
                                {
                                    "EmployeeID": "21",
                                    "LastName": "Pham",
                                    "FirstName": "Lisa",
                                    "Title": "IT Project Manager",
                                    "TitleOfCourtesy": "Mrs.",
                                    "BirthDate": "1988-07-02 00:00:00",
                                    "HireDate": "2019-03-01 00:00:00",
                                    "Address": "88 Innovation St",
                                    "City": "Sydney",
                                    "Region": "NSW",
                                    "PostalCode": "2000",
                                    "Country": "Australia",
                                    "HomePhone": "(02) 555-8383",
                                    "Extension": "111",
                                    "Notes": "Leads internal software deployment.",
                                    "ReportsTo": "10",
                                    "PhotoPath": "http://accweb/employees/pham.bmp",
                                    "Salary": "5500.0",
                                    "IsManager": "0"
                                },
                                {
                                    "EmployeeID": "22",
                                    "LastName": "Ng",
                                    "FirstName": "Tom",
                                    "Title": "Finance Analyst",
                                    "TitleOfCourtesy": "Mr.",
                                    "BirthDate": "1991-07-15 00:00:00",
                                    "HireDate": "2021-04-14 00:00:00",
                                    "Address": "9 Ledger St",
                                    "City": "Canberra",
                                    "Region": "ACT",
                                    "PostalCode": "2600",
                                    "Country": "Australia",
                                    "HomePhone": "(02) 555-9191",
                                    "Extension": "112",
                                    "Notes": "Analyzes monthly and quarterly financials.",
                                    "ReportsTo": "13",
                                    "PhotoPath": "http://accweb/employees/ng.bmp",
                                    "Salary": "4650.3",
                                    "IsManager": "0"
                                },
                                {
                                    "EmployeeID": "23",
                                    "LastName": "Cruz",
                                    "FirstName": "Isabella",
                                    "Title": "Marketing Analyst",
                                    "TitleOfCourtesy": "Ms.",
                                    "BirthDate": "1994-07-05 00:00:00",
                                    "HireDate": "2022-07-01 00:00:00",
                                    "Address": "56 Branding Ln",
                                    "City": "Melbourne",
                                    "Region": "VIC",
                                    "PostalCode": "3000",
                                    "Country": "Australia",
                                    "HomePhone": "(03) 555-2200",
                                    "Extension": "113",
                                    "Notes": "Conducts market research and surveys.",
                                    "ReportsTo": "14",
                                    "PhotoPath": "http://accweb/employees/cruz.bmp",
                                    "Salary": "3900.55",
                                    "IsManager": "0"
                                },
                                {
                                    "EmployeeID": "24",
                                    "LastName": "Ali",
                                    "FirstName": "Sara",
                                    "Title": "Customer Service Officer",
                                    "TitleOfCourtesy": "Ms.",
                                    "BirthDate": "1997-07-20 00:00:00",
                                    "HireDate": "2022-09-19 00:00:00",
                                    "Address": "17 Help Desk St",
                                    "City": "Adelaide",
                                    "Region": "SA",
                                    "PostalCode": "5000",
                                    "Country": "Australia",
                                    "HomePhone": "(08) 555-7733",
                                    "Extension": "114",
                                    "Notes": "Handles customer queries and feedback.",
                                    "ReportsTo": "20",
                                    "PhotoPath": "http://accweb/employees/ali.bmp",
                                    "Salary": "3100.0",
                                    "IsManager": "0"
                                },
                                {
                                    "EmployeeID": "25",
                                    "LastName": "Thompson",
                                    "FirstName": "James",
                                    "Title": "Transport Supervisor",
                                    "TitleOfCourtesy": "Mr.",
                                    "BirthDate": "1982-07-30 00:00:00",
                                    "HireDate": "2015-10-10 00:00:00",
                                    "Address": "102 Delivery Ln",
                                    "City": "Perth",
                                    "Region": "WA",
                                    "PostalCode": "6000",
                                    "Country": "Australia",
                                    "HomePhone": "(08) 555-4444",
                                    "Extension": "115",
                                    "Notes": "Coordinates delivery teams across regions.",
                                    "ReportsTo": "12",
                                    "PhotoPath": "http://accweb/employees/thompson.bmp",
                                    "Salary": "4700.0",
                                    "IsManager": "0"
                                },
                                {
                                    "EmployeeID": "26",
                                    "LastName": "Hassan",
                                    "FirstName": "Omar",
                                    "Title": "Payroll Officer",
                                    "TitleOfCourtesy": "Mr.",
                                    "BirthDate": "1990-07-09 00:00:00",
                                    "HireDate": "2020-01-08 00:00:00",
                                    "Address": "33 Payslip St",
                                    "City": "Darwin",
                                    "Region": "NT",
                                    "PostalCode": "800",
                                    "Country": "Australia",
                                    "HomePhone": "(08) 555-6161",
                                    "Extension": "116",
                                    "Notes": "Responsible for salary disbursement and reports.",
                                    "ReportsTo": "13",
                                    "PhotoPath": "http://accweb/employees/hassan.bmp",
                                    "Salary": "4300.75",
                                    "IsManager": "0"
                                },
                                {
                                    "EmployeeID": "27",
                                    "LastName": "White",
                                    "FirstName": "Chloe",
                                    "Title": "IT Intern",
                                    "TitleOfCourtesy": "Ms.",
                                    "BirthDate": "2000-07-16 00:00:00",
                                    "HireDate": "2024-02-01 00:00:00",
                                    "Address": "21 Byte Rd",
                                    "City": "Canberra",
                                    "Region": "ACT",
                                    "PostalCode": "2600",
                                    "Country": "Australia",
                                    "HomePhone": "(02) 555-3030",
                                    "Extension": "117",
                                    "Notes": "Currently assisting the infrastructure team.",
                                    "ReportsTo": "10",
                                    "PhotoPath": "http://accweb/employees/white.bmp",
                                    "Salary": "2800.0",
                                    "IsManager": "0"
                                },
                                {
                                    "EmployeeID": "28",
                                    "LastName": "Moreno",
                                    "FirstName": "Diego",
                                    "Title": "Marketing Content Creator",
                                    "TitleOfCourtesy": "Mr.",
                                    "BirthDate": "1993-07-06 00:00:00",
                                    "HireDate": "2023-06-10 00:00:00",
                                    "Address": "45 Story Ln",
                                    "City": "Melbourne",
                                    "Region": "VIC",
                                    "PostalCode": "3000",
                                    "Country": "Australia",
                                    "HomePhone": "(03) 555-2323",
                                    "Extension": "118",
                                    "Notes": "Creates engaging content for social platforms.",
                                    "ReportsTo": "14",
                                    "PhotoPath": "http://accweb/employees/moreno.bmp",
                                    "Salary": "3750.6",
                                    "IsManager": "0"
                                },
                                {
                                    "EmployeeID": "29",
                                    "LastName": "Baker",
                                    "FirstName": "Sophie",
                                    "Title": "HR Advisor",
                                    "TitleOfCourtesy": "Mrs.",
                                    "BirthDate": "1989-07-17 00:00:00",
                                    "HireDate": "2021-11-01 00:00:00",
                                    "Address": "76 Welfare Rd",
                                    "City": "Hobart",
                                    "Region": "TAS",
                                    "PostalCode": "7000",
                                    "Country": "Australia",
                                    "HomePhone": "(03) 555-3434",
                                    "Extension": "119",
                                    "Notes": "Advises on policies and employee development.",
                                    "ReportsTo": "11",
                                    "PhotoPath": "http://accweb/employees/baker.bmp",
                                    "Salary": "4550.1",
                                    "IsManager": "0"
                                },
                                {
                                    "EmployeeID": "30",
                                    "LastName": "Doe",
                                    "FirstName": "John",
                                    "Title": "Software Engineer",
                                    "TitleOfCourtesy": "NULL",
                                    "BirthDate": "1990-01-01 00:00:00",
                                    "HireDate": "2025-10-01 00:00:00",
                                    "Address": "123 Main St",
                                    "City": "NULL",
                                    "Region": "NULL",
                                    "PostalCode": "NULL",
                                    "Country": "USA",
                                    "HomePhone": "New employee named John",
                                    "Extension": "NULL",
                                    "Notes": "(123) 456-7890",
                                    "ReportsTo": "NULL",
                                    "PhotoPath": "NULL",
                                    "Salary": "NULL",
                                    "IsManager": "NULL"
                                },
                                {
                                    "EmployeeID": "31",
                                    "LastName": "Vuong",
                                    "FirstName": "Alex",
                                    "Title": "Data Analyst",
                                    "TitleOfCourtesy": "NULL",
                                    "BirthDate": "1998-02-02 00:00:00",
                                    "HireDate": "2025-05-20 00:00:00",
                                    "Address": "Auburn Grove",
                                    "City": "NULL",
                                    "Region": "NULL",
                                    "PostalCode": "NULL",
                                    "Country": "AU",
                                    "HomePhone": "New employee named Alex",
                                    "Extension": "NULL",
                                    "Notes": "0412345678",
                                    "ReportsTo": "NULL",
                                    "PhotoPath": "NULL",
                                    "Salary": "999999.0",
                                    "IsManager": "NULL"
                                }
                            ]
                        },
                        "text/html": [
                            "<table>",
                            "<tr><th>EmployeeID</th><th>LastName</th><th>FirstName</th><th>Title</th><th>TitleOfCourtesy</th><th>BirthDate</th><th>HireDate</th><th>Address</th><th>City</th><th>Region</th><th>PostalCode</th><th>Country</th><th>HomePhone</th><th>Extension</th><th>Notes</th><th>ReportsTo</th><th>PhotoPath</th><th>Salary</th><th>IsManager</th></tr>",
                            "<tr><td>1</td><td>Davolio</td><td>Nancy</td><td>Sales Representative</td><td>Ms.</td><td>1948-12-08 00:00:00</td><td>1992-05-01 00:00:00</td><td>507 - 20th Ave. E.Apt. 2A</td><td>Seattle</td><td>WA</td><td>98122</td><td>USA</td><td>(206) 555-9857</td><td>5467</td><td>Education includes a BA in psychology from Colorado State University in 1970.  She also completed &quot;The Art of the Cold Call.&quot;  Nancy is a member of Toastmasters International.</td><td>2</td><td>http://accweb/emmployees/davolio.bmp</td><td>2954.55</td><td>0</td></tr>",
                            "<tr><td>2</td><td>Fuller</td><td>Andrew</td><td>Vice President, Sales</td><td>Dr.</td><td>1952-02-19 00:00:00</td><td>1992-08-14 00:00:00</td><td>908 W. Capital Way</td><td>Tacoma</td><td>WA</td><td>98401</td><td>USA</td><td>(206) 555-9482</td><td>3457</td><td>Andrew received his BTS commercial in 1974 and a Ph.D. in international marketing from the University of Dallas in 1981.  He is fluent in French and Italian and reads German.  He joined the company as a sales representative, was promoted to sales manager in January 1992 and to vice president of sales in March 1993.  Andrew is a member of the Sales Management Roundtable, the Seattle Chamber of Commerce, and the Pacific Rim Importers Association.</td><td>NULL</td><td>http://accweb/emmployees/fuller.bmp</td><td>2254.49</td><td>1</td></tr>",
                            "<tr><td>3</td><td>Leverling</td><td>Janet</td><td>Sales Representative</td><td>Ms.</td><td>1963-08-30 00:00:00</td><td>1992-04-01 00:00:00</td><td>722 Moss Bay Blvd.</td><td>Kirkland</td><td>WA</td><td>98033</td><td>USA</td><td>(206) 555-3412</td><td>3355</td><td>Janet has a BS degree in chemistry from Boston College (1984).  She has also completed a certificate program in food retailing management.  Janet was hired as a sales associate in 1991 and promoted to sales representative in February 1992.</td><td>2</td><td>http://accweb/emmployees/leverling.bmp</td><td>3119.15</td><td>0</td></tr>",
                            "<tr><td>4</td><td>Peacock</td><td>Margaret</td><td>Sales Representative</td><td>Mrs.</td><td>1937-09-19 00:00:00</td><td>1993-05-03 00:00:00</td><td>4110 Old Redmond Rd.</td><td>Redmond</td><td>WA</td><td>98052</td><td>USA</td><td>(206) 555-8122</td><td>5176</td><td>Margaret holds a BA in English literature from Concordia College (1958) and an MA from the American Institute of Culinary Arts (1966).  She was assigned to the London office temporarily from July through November 1992.</td><td>2</td><td>http://accweb/emmployees/peacock.bmp</td><td>1861.08</td><td>0</td></tr>",
                            "<tr><td>5</td><td>Buchanan</td><td>Steven</td><td>Sales Manager</td><td>Mr.</td><td>1955-03-04 00:00:00</td><td>1993-10-17 00:00:00</td><td>14 Garrett Hill</td><td>London</td><td>NULL</td><td>SW1 8JR</td><td>UK</td><td>(71) 555-4848</td><td>3453</td><td>Steven Buchanan graduated from St. Andrews University, Scotland, with a BSC degree in 1976.  Upon joining the company as a sales representative in 1992, he spent 6 months in an orientation program at the Seattle office and then returned to his permanent post in London.  He was promoted to sales manager in March 1993.  Mr. Buchanan has completed the courses &quot;Successful Telemarketing&quot; and &quot;International Sales Management.&quot;  He is fluent in French.</td><td>2</td><td>http://accweb/emmployees/buchanan.bmp</td><td>1744.21</td><td>1</td></tr>",
                            "<tr><td>6</td><td>Suyama</td><td>Michael</td><td>Sales Representative</td><td>Mr.</td><td>1963-07-02 00:00:00</td><td>1993-10-17 00:00:00</td><td>Coventry House\r\nMiner Rd.</td><td>London</td><td>NULL</td><td>EC2 7JR</td><td>UK</td><td>(71) 555-7773</td><td>428</td><td>Michael is a graduate of Sussex University (MA, economics, 1983) and the University of California at Los Angeles (MBA, marketing, 1986).  He has also taken the courses &quot;Multi-Cultural Selling&quot; and &quot;Time Management for the Sales Professional.&quot;  He is fluent in Japanese and can read and write French, Portuguese, and Spanish.</td><td>5</td><td>http://accweb/emmployees/davolio.bmp</td><td>2004.07</td><td>0</td></tr>",
                            "<tr><td>7</td><td>King</td><td>Robert</td><td>Sales Representative</td><td>Mr.</td><td>1960-05-29 00:00:00</td><td>1994-01-02 00:00:00</td><td>Edgeham Hollow\r\nWinchester Way</td><td>London</td><td>NULL</td><td>RG1 9SP</td><td>UK</td><td>(71) 555-5598</td><td>465</td><td>Robert King served in the Peace Corps and traveled extensively before completing his degree in English at the University of Michigan in 1992, the year he joined the company.  After completing a course entitled &quot;Selling in Europe,&quot; he was transferred to the London office in March 1993.</td><td>5</td><td>http://accweb/emmployees/davolio.bmp</td><td>1991.55</td><td>0</td></tr>",
                            "<tr><td>8</td><td>Callahan</td><td>Laura</td><td>Inside Sales Coordinator</td><td>Ms.</td><td>1958-01-09 00:00:00</td><td>1994-03-05 00:00:00</td><td>4726 - 11th Ave. N.E.</td><td>Seattle</td><td>WA</td><td>98105</td><td>USA</td><td>(206) 555-1189</td><td>2344</td><td>Laura received a BA in psychology from the University of Washington.  She has also completed a course in business French.  She reads and writes French.</td><td>2</td><td>http://accweb/emmployees/davolio.bmp</td><td>2100.5</td><td>0</td></tr>",
                            "<tr><td>9</td><td>Dodsworth</td><td>Anne</td><td>Sales Representative</td><td>Ms.</td><td>1966-01-27 00:00:00</td><td>1994-11-15 00:00:00</td><td>7 Houndstooth Rd.</td><td>London</td><td>NULL</td><td>WG2 7LT</td><td>UK</td><td>(71) 555-4444</td><td>452</td><td>Anne has a BA degree in English from St. Lawrence College.  She is fluent in French and German.</td><td>5</td><td>http://accweb/emmployees/davolio.bmp</td><td>2333.33</td><td>0</td></tr>",
                            "<tr><td>10</td><td>Nguyen</td><td>Alex</td><td>IT Specialist</td><td>Mr.</td><td>1990-07-12 00:00:00</td><td>2021-02-15 00:00:00</td><td>123 Tech Lane</td><td>Sydney</td><td>NSW</td><td>2000</td><td>Australia</td><td>(02) 555-1000</td><td>100</td><td>Expert in system infrastructure and network security.</td><td>2</td><td>http://accweb/employees/nguyen.bmp</td><td>5100.75</td><td>1</td></tr>",
                            "<tr><td>11</td><td>Tran</td><td>Linh</td><td>HR Manager</td><td>Ms.</td><td>1985-07-19 00:00:00</td><td>2018-09-01 00:00:00</td><td>22 Green Rd</td><td>Melbourne</td><td>VIC</td><td>3000</td><td>Australia</td><td>(03) 555-2345</td><td>101</td><td>Responsible for employee wellbeing and recruitment.</td><td>2</td><td>http://accweb/employees/tran.bmp</td><td>4700.6</td><td>1</td></tr>",
                            "<tr><td>12</td><td>Patel</td><td>Amit</td><td>Logistics Coordinator</td><td>Mr.</td><td>1987-07-04 00:00:00</td><td>2019-01-10 00:00:00</td><td>89 Distribution St</td><td>Brisbane</td><td>QLD</td><td>4000</td><td>Australia</td><td>(07) 555-3234</td><td>102</td><td>Manages transportation and goods flow.</td><td>5</td><td>http://accweb/employees/patel.bmp</td><td>4200.9</td><td>1</td></tr>",
                            "<tr><td>13</td><td>Smith</td><td>Emily</td><td>Finance Officer</td><td>Mrs.</td><td>1992-07-18 00:00:00</td><td>2020-06-11 00:00:00</td><td>14 Accounting Blvd</td><td>Perth</td><td>WA</td><td>6000</td><td>Australia</td><td>(08) 555-4852</td><td>103</td><td>Specialist in financial reporting and budgeting.</td><td>5</td><td>http://accweb/employees/smith.bmp</td><td>4900.0</td><td>1</td></tr>",
                            "<tr><td>14</td><td>Kumar</td><td>Raj</td><td>Marketing Manager</td><td>Mr.</td><td>1984-07-25 00:00:00</td><td>2017-04-07 00:00:00</td><td>66 Ad Street</td><td>Sydney</td><td>NSW</td><td>2000</td><td>Australia</td><td>(02) 555-6789</td><td>104</td><td>Leads campaigns and product launches.</td><td>2</td><td>http://accweb/employees/kumar.bmp</td><td>5300.45</td><td>1</td></tr>",
                            "<tr><td>15</td><td>Lee</td><td>Jessica</td><td>IT Support</td><td>Ms.</td><td>1993-07-14 00:00:00</td><td>2022-05-03 00:00:00</td><td>7 Tech Park Ln</td><td>Adelaide</td><td>SA</td><td>5000</td><td>Australia</td><td>(08) 555-9988</td><td>105</td><td>Provides technical support to all departments.</td><td>10</td><td>http://accweb/employees/lee.bmp</td><td>3800.2</td><td>0</td></tr>",
                            "<tr><td>16</td><td>Chen</td><td>Victor</td><td>HR Assistant</td><td>Mr.</td><td>1995-07-22 00:00:00</td><td>2021-08-01 00:00:00</td><td>98 Talent Ave</td><td>Darwin</td><td>NT</td><td>800</td><td>Australia</td><td>(08) 555-4123</td><td>106</td><td>Assists with onboarding and employee files.</td><td>11</td><td>http://accweb/employees/chen.bmp</td><td>3600.0</td><td>0</td></tr>",
                            "<tr><td>17</td><td>Gonzalez</td><td>Ana</td><td>Supply Chain Analyst</td><td>Mrs.</td><td>1986-07-29 00:00:00</td><td>2019-12-15 00:00:00</td><td>445 Logistics Dr</td><td>Hobart</td><td>TAS</td><td>7000</td><td>Australia</td><td>(03) 555-6598</td><td>107</td><td>Analyzes supply trends and demand forecasts.</td><td>12</td><td>http://accweb/employees/gonzalez.bmp</td><td>4550.65</td><td>0</td></tr>",
                            "<tr><td>18</td><td>Davis</td><td>Ben</td><td>Accountant</td><td>Mr.</td><td>1990-07-11 00:00:00</td><td>2020-02-20 00:00:00</td><td>212 Finance Rd</td><td>Melbourne</td><td>VIC</td><td>3000</td><td>Australia</td><td>(03) 555-1177</td><td>108</td><td>Handles payroll and tax compliance.</td><td>13</td><td>http://accweb/employees/davis.bmp</td><td>4800.45</td><td>0</td></tr>",
                            "<tr><td>19</td><td>Matsuda</td><td>Yuki</td><td>Marketing Assistant</td><td>Ms.</td><td>1996-07-28 00:00:00</td><td>2023-01-09 00:00:00</td><td>34 Campaign Ave</td><td>Sydney</td><td>NSW</td><td>2000</td><td>Australia</td><td>(02) 555-3344</td><td>109</td><td>Supports digital marketing efforts.</td><td>14</td><td>http://accweb/employees/matsuda.bmp</td><td>3400.0</td><td>0</td></tr>",
                            "<tr><td>20</td><td>Wilson</td><td>Harry</td><td>Warehouse Manager</td><td>Mr.</td><td>1983-07-07 00:00:00</td><td>2016-11-11 00:00:00</td><td>75 Storage Dr</td><td>Brisbane</td><td>QLD</td><td>4000</td><td>Australia</td><td>(07) 555-6464</td><td>110</td><td>Oversees inventory and stock levels.</td><td>5</td><td>http://accweb/employees/wilson.bmp</td><td>5100.8</td><td>1</td></tr>",
                            "<tr><td>21</td><td>Pham</td><td>Lisa</td><td>IT Project Manager</td><td>Mrs.</td><td>1988-07-02 00:00:00</td><td>2019-03-01 00:00:00</td><td>88 Innovation St</td><td>Sydney</td><td>NSW</td><td>2000</td><td>Australia</td><td>(02) 555-8383</td><td>111</td><td>Leads internal software deployment.</td><td>10</td><td>http://accweb/employees/pham.bmp</td><td>5500.0</td><td>0</td></tr>",
                            "<tr><td>22</td><td>Ng</td><td>Tom</td><td>Finance Analyst</td><td>Mr.</td><td>1991-07-15 00:00:00</td><td>2021-04-14 00:00:00</td><td>9 Ledger St</td><td>Canberra</td><td>ACT</td><td>2600</td><td>Australia</td><td>(02) 555-9191</td><td>112</td><td>Analyzes monthly and quarterly financials.</td><td>13</td><td>http://accweb/employees/ng.bmp</td><td>4650.3</td><td>0</td></tr>",
                            "<tr><td>23</td><td>Cruz</td><td>Isabella</td><td>Marketing Analyst</td><td>Ms.</td><td>1994-07-05 00:00:00</td><td>2022-07-01 00:00:00</td><td>56 Branding Ln</td><td>Melbourne</td><td>VIC</td><td>3000</td><td>Australia</td><td>(03) 555-2200</td><td>113</td><td>Conducts market research and surveys.</td><td>14</td><td>http://accweb/employees/cruz.bmp</td><td>3900.55</td><td>0</td></tr>",
                            "<tr><td>24</td><td>Ali</td><td>Sara</td><td>Customer Service Officer</td><td>Ms.</td><td>1997-07-20 00:00:00</td><td>2022-09-19 00:00:00</td><td>17 Help Desk St</td><td>Adelaide</td><td>SA</td><td>5000</td><td>Australia</td><td>(08) 555-7733</td><td>114</td><td>Handles customer queries and feedback.</td><td>20</td><td>http://accweb/employees/ali.bmp</td><td>3100.0</td><td>0</td></tr>",
                            "<tr><td>25</td><td>Thompson</td><td>James</td><td>Transport Supervisor</td><td>Mr.</td><td>1982-07-30 00:00:00</td><td>2015-10-10 00:00:00</td><td>102 Delivery Ln</td><td>Perth</td><td>WA</td><td>6000</td><td>Australia</td><td>(08) 555-4444</td><td>115</td><td>Coordinates delivery teams across regions.</td><td>12</td><td>http://accweb/employees/thompson.bmp</td><td>4700.0</td><td>0</td></tr>",
                            "<tr><td>26</td><td>Hassan</td><td>Omar</td><td>Payroll Officer</td><td>Mr.</td><td>1990-07-09 00:00:00</td><td>2020-01-08 00:00:00</td><td>33 Payslip St</td><td>Darwin</td><td>NT</td><td>800</td><td>Australia</td><td>(08) 555-6161</td><td>116</td><td>Responsible for salary disbursement and reports.</td><td>13</td><td>http://accweb/employees/hassan.bmp</td><td>4300.75</td><td>0</td></tr>",
                            "<tr><td>27</td><td>White</td><td>Chloe</td><td>IT Intern</td><td>Ms.</td><td>2000-07-16 00:00:00</td><td>2024-02-01 00:00:00</td><td>21 Byte Rd</td><td>Canberra</td><td>ACT</td><td>2600</td><td>Australia</td><td>(02) 555-3030</td><td>117</td><td>Currently assisting the infrastructure team.</td><td>10</td><td>http://accweb/employees/white.bmp</td><td>2800.0</td><td>0</td></tr>",
                            "<tr><td>28</td><td>Moreno</td><td>Diego</td><td>Marketing Content Creator</td><td>Mr.</td><td>1993-07-06 00:00:00</td><td>2023-06-10 00:00:00</td><td>45 Story Ln</td><td>Melbourne</td><td>VIC</td><td>3000</td><td>Australia</td><td>(03) 555-2323</td><td>118</td><td>Creates engaging content for social platforms.</td><td>14</td><td>http://accweb/employees/moreno.bmp</td><td>3750.6</td><td>0</td></tr>",
                            "<tr><td>29</td><td>Baker</td><td>Sophie</td><td>HR Advisor</td><td>Mrs.</td><td>1989-07-17 00:00:00</td><td>2021-11-01 00:00:00</td><td>76 Welfare Rd</td><td>Hobart</td><td>TAS</td><td>7000</td><td>Australia</td><td>(03) 555-3434</td><td>119</td><td>Advises on policies and employee development.</td><td>11</td><td>http://accweb/employees/baker.bmp</td><td>4550.1</td><td>0</td></tr>",
                            "<tr><td>30</td><td>Doe</td><td>John</td><td>Software Engineer</td><td>NULL</td><td>1990-01-01 00:00:00</td><td>2025-10-01 00:00:00</td><td>123 Main St</td><td>NULL</td><td>NULL</td><td>NULL</td><td>USA</td><td>New employee named John</td><td>NULL</td><td>(123) 456-7890</td><td>NULL</td><td>NULL</td><td>NULL</td><td>NULL</td></tr>",
                            "<tr><td>31</td><td>Vuong</td><td>Alex</td><td>Data Analyst</td><td>NULL</td><td>1998-02-02 00:00:00</td><td>2025-05-20 00:00:00</td><td>Auburn Grove</td><td>NULL</td><td>NULL</td><td>NULL</td><td>AU</td><td>New employee named Alex</td><td>NULL</td><td>0412345678</td><td>NULL</td><td>NULL</td><td>999999.0</td><td>NULL</td></tr>",
                            "</table>"
                        ]
                    }
                },
                {
                    "output_type": "execute_result",
                    "metadata": {},
                    "execution_count": 12,
                    "data": {
                        "application/vnd.dataresource+json": {
                            "schema": {
                                "fields": [
                                    {
                                        "name": "Field"
                                    },
                                    {
                                        "name": "Type"
                                    },
                                    {
                                        "name": "Null"
                                    },
                                    {
                                        "name": "Key"
                                    },
                                    {
                                        "name": "Default"
                                    },
                                    {
                                        "name": "Extra"
                                    }
                                ]
                            },
                            "data": [
                                {
                                    "Field": "EmployeeID",
                                    "Type": "b'int'",
                                    "Null": "NO",
                                    "Key": "PRI",
                                    "Default": "NULL",
                                    "Extra": "auto_increment"
                                },
                                {
                                    "Field": "LastName",
                                    "Type": "b'varchar(20)'",
                                    "Null": "NO",
                                    "Key": "MUL",
                                    "Default": "NULL",
                                    "Extra": ""
                                },
                                {
                                    "Field": "FirstName",
                                    "Type": "b'varchar(10)'",
                                    "Null": "NO",
                                    "Key": "",
                                    "Default": "NULL",
                                    "Extra": ""
                                },
                                {
                                    "Field": "Title",
                                    "Type": "b'varchar(30)'",
                                    "Null": "YES",
                                    "Key": "",
                                    "Default": "NULL",
                                    "Extra": ""
                                },
                                {
                                    "Field": "TitleOfCourtesy",
                                    "Type": "b'varchar(25)'",
                                    "Null": "YES",
                                    "Key": "",
                                    "Default": "NULL",
                                    "Extra": ""
                                },
                                {
                                    "Field": "BirthDate",
                                    "Type": "b'datetime'",
                                    "Null": "YES",
                                    "Key": "",
                                    "Default": "NULL",
                                    "Extra": ""
                                },
                                {
                                    "Field": "HireDate",
                                    "Type": "b'datetime'",
                                    "Null": "YES",
                                    "Key": "",
                                    "Default": "NULL",
                                    "Extra": ""
                                },
                                {
                                    "Field": "Address",
                                    "Type": "b'varchar(60)'",
                                    "Null": "YES",
                                    "Key": "",
                                    "Default": "NULL",
                                    "Extra": ""
                                },
                                {
                                    "Field": "City",
                                    "Type": "b'varchar(15)'",
                                    "Null": "YES",
                                    "Key": "",
                                    "Default": "NULL",
                                    "Extra": ""
                                },
                                {
                                    "Field": "Region",
                                    "Type": "b'varchar(15)'",
                                    "Null": "YES",
                                    "Key": "",
                                    "Default": "NULL",
                                    "Extra": ""
                                },
                                {
                                    "Field": "PostalCode",
                                    "Type": "b'varchar(10)'",
                                    "Null": "YES",
                                    "Key": "MUL",
                                    "Default": "NULL",
                                    "Extra": ""
                                },
                                {
                                    "Field": "Country",
                                    "Type": "b'varchar(15)'",
                                    "Null": "YES",
                                    "Key": "",
                                    "Default": "NULL",
                                    "Extra": ""
                                },
                                {
                                    "Field": "HomePhone",
                                    "Type": "b'varchar(24)'",
                                    "Null": "YES",
                                    "Key": "",
                                    "Default": "NULL",
                                    "Extra": ""
                                },
                                {
                                    "Field": "Extension",
                                    "Type": "b'varchar(4)'",
                                    "Null": "YES",
                                    "Key": "",
                                    "Default": "NULL",
                                    "Extra": ""
                                },
                                {
                                    "Field": "Notes",
                                    "Type": "b'mediumtext'",
                                    "Null": "NO",
                                    "Key": "",
                                    "Default": "NULL",
                                    "Extra": ""
                                },
                                {
                                    "Field": "ReportsTo",
                                    "Type": "b'int'",
                                    "Null": "YES",
                                    "Key": "MUL",
                                    "Default": "NULL",
                                    "Extra": ""
                                },
                                {
                                    "Field": "PhotoPath",
                                    "Type": "b'varchar(255)'",
                                    "Null": "YES",
                                    "Key": "",
                                    "Default": "NULL",
                                    "Extra": ""
                                },
                                {
                                    "Field": "Salary",
                                    "Type": "b'float'",
                                    "Null": "YES",
                                    "Key": "",
                                    "Default": "NULL",
                                    "Extra": ""
                                },
                                {
                                    "Field": "IsManager",
                                    "Type": "b'tinyint(1)'",
                                    "Null": "YES",
                                    "Key": "",
                                    "Default": "NULL",
                                    "Extra": ""
                                }
                            ]
                        },
                        "text/html": [
                            "<table>",
                            "<tr><th>Field</th><th>Type</th><th>Null</th><th>Key</th><th>Default</th><th>Extra</th></tr>",
                            "<tr><td>EmployeeID</td><td>b&#39;int&#39;</td><td>NO</td><td>PRI</td><td>NULL</td><td>auto_increment</td></tr>",
                            "<tr><td>LastName</td><td>b&#39;varchar(20)&#39;</td><td>NO</td><td>MUL</td><td>NULL</td><td></td></tr>",
                            "<tr><td>FirstName</td><td>b&#39;varchar(10)&#39;</td><td>NO</td><td></td><td>NULL</td><td></td></tr>",
                            "<tr><td>Title</td><td>b&#39;varchar(30)&#39;</td><td>YES</td><td></td><td>NULL</td><td></td></tr>",
                            "<tr><td>TitleOfCourtesy</td><td>b&#39;varchar(25)&#39;</td><td>YES</td><td></td><td>NULL</td><td></td></tr>",
                            "<tr><td>BirthDate</td><td>b&#39;datetime&#39;</td><td>YES</td><td></td><td>NULL</td><td></td></tr>",
                            "<tr><td>HireDate</td><td>b&#39;datetime&#39;</td><td>YES</td><td></td><td>NULL</td><td></td></tr>",
                            "<tr><td>Address</td><td>b&#39;varchar(60)&#39;</td><td>YES</td><td></td><td>NULL</td><td></td></tr>",
                            "<tr><td>City</td><td>b&#39;varchar(15)&#39;</td><td>YES</td><td></td><td>NULL</td><td></td></tr>",
                            "<tr><td>Region</td><td>b&#39;varchar(15)&#39;</td><td>YES</td><td></td><td>NULL</td><td></td></tr>",
                            "<tr><td>PostalCode</td><td>b&#39;varchar(10)&#39;</td><td>YES</td><td>MUL</td><td>NULL</td><td></td></tr>",
                            "<tr><td>Country</td><td>b&#39;varchar(15)&#39;</td><td>YES</td><td></td><td>NULL</td><td></td></tr>",
                            "<tr><td>HomePhone</td><td>b&#39;varchar(24)&#39;</td><td>YES</td><td></td><td>NULL</td><td></td></tr>",
                            "<tr><td>Extension</td><td>b&#39;varchar(4)&#39;</td><td>YES</td><td></td><td>NULL</td><td></td></tr>",
                            "<tr><td>Notes</td><td>b&#39;mediumtext&#39;</td><td>NO</td><td></td><td>NULL</td><td></td></tr>",
                            "<tr><td>ReportsTo</td><td>b&#39;int&#39;</td><td>YES</td><td>MUL</td><td>NULL</td><td></td></tr>",
                            "<tr><td>PhotoPath</td><td>b&#39;varchar(255)&#39;</td><td>YES</td><td></td><td>NULL</td><td></td></tr>",
                            "<tr><td>Salary</td><td>b&#39;float&#39;</td><td>YES</td><td></td><td>NULL</td><td></td></tr>",
                            "<tr><td>IsManager</td><td>b&#39;tinyint(1)&#39;</td><td>YES</td><td></td><td>NULL</td><td></td></tr>",
                            "</table>"
                        ]
                    }
                }
            ],
            "execution_count": 12
        },
        {
            "cell_type": "code",
            "source": [
                "INSERT INTO Employees (LastName,FirstName,Title,TitleOfCourtesy,BirthDate,HireDate,Address,City,Region,PostalCode,Country,HomePhone,Extension,Notes,ReportsTo,PhotoPath,Salary) VALUES('Nguyen','Alex','IT Specialist','Mr.','1990-07-12','2021-02-15','123 Tech Lane','Sydney','NSW','2000','Australia','(02) 555-1000','100','Expert in system infrastructure and network security.',2,'http://accweb/employees/nguyen.bmp',5100.75);\r\n",
                "\r\n",
                "SELECT * FROM Employees;"
            ],
            "metadata": {
                "language": "sql",
                "azdata_cell_guid": "5e03858b-1612-417f-84ed-0fc1b8eb3d93"
            },
            "outputs": [],
            "execution_count": null
        },
        {
            "cell_type": "code",
            "source": [
                "INSERT INTO Employees (LastName,FirstName,Title,TitleOfCourtesy,BirthDate,HireDate,Address,City,Region,PostalCode,Country,HomePhone,Extension,Notes,ReportsTo,PhotoPath,Salary) VALUES('Tran','Linh','HR Manager','Ms.','1985-07-19','2018-09-1','22 Green Rd','Melbourne','VIC','3000','Australia','(03) 555-2345','101','Responsible for employee wellbeing and recruitment.',2,'http://accweb/employees/tran.bmp',4700.6);\r\n",
                "INSERT INTO Employees (LastName,FirstName,Title,TitleOfCourtesy,BirthDate,HireDate,Address,City,Region,PostalCode,Country,HomePhone,Extension,Notes,ReportsTo,PhotoPath,Salary) VALUES('Patel','Amit','Logistics Coordinator','Mr.','1987-07-4','2019-01-10','89 Distribution St','Brisbane','QLD','4000','Australia','(07) 555-3234','102','Manages transportation and goods flow.',5,'http://accweb/employees/patel.bmp',4200.9);\r\n",
                "INSERT INTO Employees (LastName,FirstName,Title,TitleOfCourtesy,BirthDate,HireDate,Address,City,Region,PostalCode,Country,HomePhone,Extension,Notes,ReportsTo,PhotoPath,Salary) VALUES('Smith','Emily','Finance Officer','Mrs.','1992-07-18','2020-06-11','14 Accounting Blvd','Perth','WA','6000','Australia','(08) 555-4852','103','Specialist in financial reporting and budgeting.',5,'http://accweb/employees/smith.bmp',4900);\r\n",
                "INSERT INTO Employees (LastName,FirstName,Title,TitleOfCourtesy,BirthDate,HireDate,Address,City,Region,PostalCode,Country,HomePhone,Extension,Notes,ReportsTo,PhotoPath,Salary) VALUES('Kumar','Raj','Marketing Manager','Mr.','1984-07-25','2017-04-7','66 Ad Street','Sydney','NSW','2000','Australia','(02) 555-6789','104','Leads campaigns and product launches.',2,'http://accweb/employees/kumar.bmp',5300.45);\r\n",
                "INSERT INTO Employees (LastName,FirstName,Title,TitleOfCourtesy,BirthDate,HireDate,Address,City,Region,PostalCode,Country,HomePhone,Extension,Notes,ReportsTo,PhotoPath,Salary) VALUES('Lee','Jessica','IT Support','Ms.','1993-07-14','2022-05-3','7 Tech Park Ln','Adelaide','SA','5000','Australia','(08) 555-9988','105','Provides technical support to all departments.',10,'http://accweb/employees/lee.bmp',3800.2);\r\n",
                "INSERT INTO Employees (LastName,FirstName,Title,TitleOfCourtesy,BirthDate,HireDate,Address,City,Region,PostalCode,Country,HomePhone,Extension,Notes,ReportsTo,PhotoPath,Salary) VALUES('Chen','Victor','HR Assistant','Mr.','1995-07-22','2021-08-1','98 Talent Ave','Darwin','NT','800','Australia','(08) 555-4123','106','Assists with onboarding and employee files.',11,'http://accweb/employees/chen.bmp',3600);\r\n",
                "INSERT INTO Employees (LastName,FirstName,Title,TitleOfCourtesy,BirthDate,HireDate,Address,City,Region,PostalCode,Country,HomePhone,Extension,Notes,ReportsTo,PhotoPath,Salary) VALUES('Gonzalez','Ana','Supply Chain Analyst','Mrs.','1986-07-29','2019-12-15','445 Logistics Dr','Hobart','TAS','7000','Australia','(03) 555-6598','107','Analyzes supply trends and demand forecasts.',12,'http://accweb/employees/gonzalez.bmp',4550.65);\r\n",
                "INSERT INTO Employees (LastName,FirstName,Title,TitleOfCourtesy,BirthDate,HireDate,Address,City,Region,PostalCode,Country,HomePhone,Extension,Notes,ReportsTo,PhotoPath,Salary) VALUES('Davis','Ben','Accountant','Mr.','1990-07-11','2020-02-20','212 Finance Rd','Melbourne','VIC','3000','Australia','(03) 555-1177','108','Handles payroll and tax compliance.',13,'http://accweb/employees/davis.bmp',4800.45);\r\n",
                "INSERT INTO Employees (LastName,FirstName,Title,TitleOfCourtesy,BirthDate,HireDate,Address,City,Region,PostalCode,Country,HomePhone,Extension,Notes,ReportsTo,PhotoPath,Salary) VALUES('Matsuda','Yuki','Marketing Assistant','Ms.','1996-07-28','2023-01-9','34 Campaign Ave','Sydney','NSW','2000','Australia','(02) 555-3344','109','Supports digital marketing efforts.',14,'http://accweb/employees/matsuda.bmp',3400);\r\n",
                "INSERT INTO Employees (LastName,FirstName,Title,TitleOfCourtesy,BirthDate,HireDate,Address,City,Region,PostalCode,Country,HomePhone,Extension,Notes,ReportsTo,PhotoPath,Salary) VALUES('Wilson','Harry','Warehouse Manager','Mr.','1983-07-7','2016-11-11','75 Storage Dr','Brisbane','QLD','4000','Australia','(07) 555-6464','110','Oversees inventory and stock levels.',5,'http://accweb/employees/wilson.bmp',5100.8);\r\n",
                "INSERT INTO Employees (LastName,FirstName,Title,TitleOfCourtesy,BirthDate,HireDate,Address,City,Region,PostalCode,Country,HomePhone,Extension,Notes,ReportsTo,PhotoPath,Salary) VALUES('Pham','Lisa','IT Project Manager','Mrs.','1988-07-2','2019-03-1','88 Innovation St','Sydney','NSW','2000','Australia','(02) 555-8383','111','Leads internal software deployment.',10,'http://accweb/employees/pham.bmp',5500);\r\n",
                "INSERT INTO Employees (LastName,FirstName,Title,TitleOfCourtesy,BirthDate,HireDate,Address,City,Region,PostalCode,Country,HomePhone,Extension,Notes,ReportsTo,PhotoPath,Salary) VALUES('Ng','Tom','Finance Analyst','Mr.','1991-07-15','2021-04-14','9 Ledger St','Canberra','ACT','2600','Australia','(02) 555-9191','112','Analyzes monthly and quarterly financials.',13,'http://accweb/employees/ng.bmp',4650.3);\r\n",
                "INSERT INTO Employees (LastName,FirstName,Title,TitleOfCourtesy,BirthDate,HireDate,Address,City,Region,PostalCode,Country,HomePhone,Extension,Notes,ReportsTo,PhotoPath,Salary) VALUES('Cruz','Isabella','Marketing Analyst','Ms.','1994-07-5','2022-07-1','56 Branding Ln','Melbourne','VIC','3000','Australia','(03) 555-2200','113','Conducts market research and surveys.',14,'http://accweb/employees/cruz.bmp',3900.55);\r\n",
                "INSERT INTO Employees (LastName,FirstName,Title,TitleOfCourtesy,BirthDate,HireDate,Address,City,Region,PostalCode,Country,HomePhone,Extension,Notes,ReportsTo,PhotoPath,Salary) VALUES('Ali','Sara','Customer Service Officer','Ms.','1997-07-20','2022-09-19','17 Help Desk St','Adelaide','SA','5000','Australia','(08) 555-7733','114','Handles customer queries and feedback.',20,'http://accweb/employees/ali.bmp',3100);\r\n",
                "INSERT INTO Employees (LastName,FirstName,Title,TitleOfCourtesy,BirthDate,HireDate,Address,City,Region,PostalCode,Country,HomePhone,Extension,Notes,ReportsTo,PhotoPath,Salary) VALUES('Thompson','James','Transport Supervisor','Mr.','1982-07-30','2015-10-10','102 Delivery Ln','Perth','WA','6000','Australia','(08) 555-4444','115','Coordinates delivery teams across regions.',12,'http://accweb/employees/thompson.bmp',4700);\r\n",
                "INSERT INTO Employees (LastName,FirstName,Title,TitleOfCourtesy,BirthDate,HireDate,Address,City,Region,PostalCode,Country,HomePhone,Extension,Notes,ReportsTo,PhotoPath,Salary) VALUES('Hassan','Omar','Payroll Officer','Mr.','1990-07-9','2020-01-8','33 Payslip St','Darwin','NT','800','Australia','(08) 555-6161','116','Responsible for salary disbursement and reports.',13,'http://accweb/employees/hassan.bmp',4300.75);\r\n",
                "INSERT INTO Employees (LastName,FirstName,Title,TitleOfCourtesy,BirthDate,HireDate,Address,City,Region,PostalCode,Country,HomePhone,Extension,Notes,ReportsTo,PhotoPath,Salary) VALUES('White','Chloe','IT Intern','Ms.','2000-07-16','2024-02-1','21 Byte Rd','Canberra','ACT','2600','Australia','(02) 555-3030','117','Currently assisting the infrastructure team.',10,'http://accweb/employees/white.bmp',2800);\r\n",
                "INSERT INTO Employees (LastName,FirstName,Title,TitleOfCourtesy,BirthDate,HireDate,Address,City,Region,PostalCode,Country,HomePhone,Extension,Notes,ReportsTo,PhotoPath,Salary) VALUES('Moreno','Diego','Marketing Content Creator','Mr.','1993-07-6','2023-06-10','45 Story Ln','Melbourne','VIC','3000','Australia','(03) 555-2323','118','Creates engaging content for social platforms.',14,'http://accweb/employees/moreno.bmp',3750.6);\r\n",
                "INSERT INTO Employees (LastName,FirstName,Title,TitleOfCourtesy,BirthDate,HireDate,Address,City,Region,PostalCode,Country,HomePhone,Extension,Notes,ReportsTo,PhotoPath,Salary) VALUES('Baker','Sophie','HR Advisor','Mrs.','1989-07-17','2021-11-1','76 Welfare Rd','Hobart','TAS','7000','Australia','(03) 555-3434','119','Advises on policies and employee development.',11,'http://accweb/employees/baker.bmp',4550.1);\r\n",
                "\r\n",
                "SELECT * FROM Employees;"
            ],
            "metadata": {
                "language": "sql",
                "azdata_cell_guid": "3bf4f796-3a15-462c-9ab1-713b42711dc9"
            },
            "outputs": [],
            "execution_count": null
        },
        {
            "cell_type": "markdown",
            "source": [
                "### 4. Can you find the list of managers (a staff reports to a manager). Then, please update the employee table by adding in a new column IsManager . Finally, update the data of this column - whoever in the manager list should have the column value to be True ."
            ],
            "metadata": {
                "azdata_cell_guid": "803a56aa-c38b-44b3-9e96-88d4de65e930"
            },
            "attachments": {}
        },
        {
            "cell_type": "code",
            "source": [
                "SELECT * FROM `Employees`;\r\n",
                "\r\n",
                "ALTER TABLE Employees\r\n",
                "ADD COLUMN IsManager BOOLEAN;"
            ],
            "metadata": {
                "azdata_cell_guid": "38e835c3-03b5-408b-87bb-29afc9651ba1",
                "language": "sql"
            },
            "outputs": [],
            "execution_count": null
        },
        {
            "cell_type": "code",
            "source": [
                "-- Manager list\r\n",
                "SELECT DISTINCT `ReportsTo` FROM `Employees` WHERE `ReportsTo` IS NOT NULL;\r\n",
                "\r\n",
                "UPDATE `Employees`\r\n",
                "SET `IsManager` = FALSE;\r\n",
                "\r\n",
                "WITH ManagerList AS (\r\n",
                "  SELECT DISTINCT `ReportsTo` AS ManagerID\r\n",
                "  FROM `Employees`\r\n",
                "  WHERE `ReportsTo` IS NOT NULL\r\n",
                ")\r\n",
                "UPDATE `Employees`\r\n",
                "SET `IsManager` = TRUE\r\n",
                "WHERE `EmployeeID` IN (SELECT ManagerID FROM ManagerList);\r\n",
                "\r\n",
                "SELECT * FROM `Employees` WHERE `IsManager` = TRUE;\r\n",
                ""
            ],
            "metadata": {
                "language": "sql",
                "azdata_cell_guid": "95584cc5-a21c-4320-b9da-a1519d995f53"
            },
            "outputs": [
                {
                    "output_type": "display_data",
                    "data": {
                        "text/html": "(8 row(s) affected)"
                    },
                    "metadata": {}
                },
                {
                    "output_type": "display_data",
                    "data": {
                        "text/html": "Commands completed successfully"
                    },
                    "metadata": {}
                },
                {
                    "output_type": "display_data",
                    "data": {
                        "text/html": "Commands completed successfully"
                    },
                    "metadata": {}
                },
                {
                    "output_type": "display_data",
                    "data": {
                        "text/html": "(8 row(s) affected)"
                    },
                    "metadata": {}
                },
                {
                    "output_type": "display_data",
                    "data": {
                        "text/html": "Total execution time: 00:00:03.222"
                    },
                    "metadata": {}
                },
                {
                    "output_type": "execute_result",
                    "metadata": {},
                    "execution_count": 14,
                    "data": {
                        "application/vnd.dataresource+json": {
                            "schema": {
                                "fields": [
                                    {
                                        "name": "ReportsTo"
                                    }
                                ]
                            },
                            "data": [
                                {
                                    "ReportsTo": "2"
                                },
                                {
                                    "ReportsTo": "5"
                                },
                                {
                                    "ReportsTo": "10"
                                },
                                {
                                    "ReportsTo": "11"
                                },
                                {
                                    "ReportsTo": "12"
                                },
                                {
                                    "ReportsTo": "13"
                                },
                                {
                                    "ReportsTo": "14"
                                },
                                {
                                    "ReportsTo": "20"
                                }
                            ]
                        },
                        "text/html": [
                            "<table>",
                            "<tr><th>ReportsTo</th></tr>",
                            "<tr><td>2</td></tr>",
                            "<tr><td>5</td></tr>",
                            "<tr><td>10</td></tr>",
                            "<tr><td>11</td></tr>",
                            "<tr><td>12</td></tr>",
                            "<tr><td>13</td></tr>",
                            "<tr><td>14</td></tr>",
                            "<tr><td>20</td></tr>",
                            "</table>"
                        ]
                    }
                },
                {
                    "output_type": "execute_result",
                    "metadata": {},
                    "execution_count": 14,
                    "data": {
                        "application/vnd.dataresource+json": {
                            "schema": {
                                "fields": [
                                    {
                                        "name": "EmployeeID"
                                    },
                                    {
                                        "name": "LastName"
                                    },
                                    {
                                        "name": "FirstName"
                                    },
                                    {
                                        "name": "Title"
                                    },
                                    {
                                        "name": "TitleOfCourtesy"
                                    },
                                    {
                                        "name": "BirthDate"
                                    },
                                    {
                                        "name": "HireDate"
                                    },
                                    {
                                        "name": "Address"
                                    },
                                    {
                                        "name": "City"
                                    },
                                    {
                                        "name": "Region"
                                    },
                                    {
                                        "name": "PostalCode"
                                    },
                                    {
                                        "name": "Country"
                                    },
                                    {
                                        "name": "HomePhone"
                                    },
                                    {
                                        "name": "Extension"
                                    },
                                    {
                                        "name": "Notes"
                                    },
                                    {
                                        "name": "ReportsTo"
                                    },
                                    {
                                        "name": "PhotoPath"
                                    },
                                    {
                                        "name": "Salary"
                                    },
                                    {
                                        "name": "IsManager"
                                    }
                                ]
                            },
                            "data": [
                                {
                                    "EmployeeID": "2",
                                    "LastName": "Fuller",
                                    "FirstName": "Andrew",
                                    "Title": "Vice President, Sales",
                                    "TitleOfCourtesy": "Dr.",
                                    "BirthDate": "1952-02-19 00:00:00",
                                    "HireDate": "1992-08-14 00:00:00",
                                    "Address": "908 W. Capital Way",
                                    "City": "Tacoma",
                                    "Region": "WA",
                                    "PostalCode": "98401",
                                    "Country": "USA",
                                    "HomePhone": "(206) 555-9482",
                                    "Extension": "3457",
                                    "Notes": "Andrew received his BTS commercial in 1974 and a Ph.D. in international marketing from the University of Dallas in 1981.  He is fluent in French and Italian and reads German.  He joined the company as a sales representative, was promoted to sales manager in January 1992 and to vice president of sales in March 1993.  Andrew is a member of the Sales Management Roundtable, the Seattle Chamber of Commerce, and the Pacific Rim Importers Association.",
                                    "ReportsTo": "NULL",
                                    "PhotoPath": "http://accweb/emmployees/fuller.bmp",
                                    "Salary": "2254.49",
                                    "IsManager": "1"
                                },
                                {
                                    "EmployeeID": "5",
                                    "LastName": "Buchanan",
                                    "FirstName": "Steven",
                                    "Title": "Sales Manager",
                                    "TitleOfCourtesy": "Mr.",
                                    "BirthDate": "1955-03-04 00:00:00",
                                    "HireDate": "1993-10-17 00:00:00",
                                    "Address": "14 Garrett Hill",
                                    "City": "London",
                                    "Region": "NULL",
                                    "PostalCode": "SW1 8JR",
                                    "Country": "UK",
                                    "HomePhone": "(71) 555-4848",
                                    "Extension": "3453",
                                    "Notes": "Steven Buchanan graduated from St. Andrews University, Scotland, with a BSC degree in 1976.  Upon joining the company as a sales representative in 1992, he spent 6 months in an orientation program at the Seattle office and then returned to his permanent post in London.  He was promoted to sales manager in March 1993.  Mr. Buchanan has completed the courses \"Successful Telemarketing\" and \"International Sales Management.\"  He is fluent in French.",
                                    "ReportsTo": "2",
                                    "PhotoPath": "http://accweb/emmployees/buchanan.bmp",
                                    "Salary": "1744.21",
                                    "IsManager": "1"
                                },
                                {
                                    "EmployeeID": "10",
                                    "LastName": "Nguyen",
                                    "FirstName": "Alex",
                                    "Title": "IT Specialist",
                                    "TitleOfCourtesy": "Mr.",
                                    "BirthDate": "1990-07-12 00:00:00",
                                    "HireDate": "2021-02-15 00:00:00",
                                    "Address": "123 Tech Lane",
                                    "City": "Sydney",
                                    "Region": "NSW",
                                    "PostalCode": "2000",
                                    "Country": "Australia",
                                    "HomePhone": "(02) 555-1000",
                                    "Extension": "100",
                                    "Notes": "Expert in system infrastructure and network security.",
                                    "ReportsTo": "2",
                                    "PhotoPath": "http://accweb/employees/nguyen.bmp",
                                    "Salary": "5100.75",
                                    "IsManager": "1"
                                },
                                {
                                    "EmployeeID": "11",
                                    "LastName": "Tran",
                                    "FirstName": "Linh",
                                    "Title": "HR Manager",
                                    "TitleOfCourtesy": "Ms.",
                                    "BirthDate": "1985-07-19 00:00:00",
                                    "HireDate": "2018-09-01 00:00:00",
                                    "Address": "22 Green Rd",
                                    "City": "Melbourne",
                                    "Region": "VIC",
                                    "PostalCode": "3000",
                                    "Country": "Australia",
                                    "HomePhone": "(03) 555-2345",
                                    "Extension": "101",
                                    "Notes": "Responsible for employee wellbeing and recruitment.",
                                    "ReportsTo": "2",
                                    "PhotoPath": "http://accweb/employees/tran.bmp",
                                    "Salary": "4700.6",
                                    "IsManager": "1"
                                },
                                {
                                    "EmployeeID": "12",
                                    "LastName": "Patel",
                                    "FirstName": "Amit",
                                    "Title": "Logistics Coordinator",
                                    "TitleOfCourtesy": "Mr.",
                                    "BirthDate": "1987-07-04 00:00:00",
                                    "HireDate": "2019-01-10 00:00:00",
                                    "Address": "89 Distribution St",
                                    "City": "Brisbane",
                                    "Region": "QLD",
                                    "PostalCode": "4000",
                                    "Country": "Australia",
                                    "HomePhone": "(07) 555-3234",
                                    "Extension": "102",
                                    "Notes": "Manages transportation and goods flow.",
                                    "ReportsTo": "5",
                                    "PhotoPath": "http://accweb/employees/patel.bmp",
                                    "Salary": "4200.9",
                                    "IsManager": "1"
                                },
                                {
                                    "EmployeeID": "13",
                                    "LastName": "Smith",
                                    "FirstName": "Emily",
                                    "Title": "Finance Officer",
                                    "TitleOfCourtesy": "Mrs.",
                                    "BirthDate": "1992-07-18 00:00:00",
                                    "HireDate": "2020-06-11 00:00:00",
                                    "Address": "14 Accounting Blvd",
                                    "City": "Perth",
                                    "Region": "WA",
                                    "PostalCode": "6000",
                                    "Country": "Australia",
                                    "HomePhone": "(08) 555-4852",
                                    "Extension": "103",
                                    "Notes": "Specialist in financial reporting and budgeting.",
                                    "ReportsTo": "5",
                                    "PhotoPath": "http://accweb/employees/smith.bmp",
                                    "Salary": "4900.0",
                                    "IsManager": "1"
                                },
                                {
                                    "EmployeeID": "14",
                                    "LastName": "Kumar",
                                    "FirstName": "Raj",
                                    "Title": "Marketing Manager",
                                    "TitleOfCourtesy": "Mr.",
                                    "BirthDate": "1984-07-25 00:00:00",
                                    "HireDate": "2017-04-07 00:00:00",
                                    "Address": "66 Ad Street",
                                    "City": "Sydney",
                                    "Region": "NSW",
                                    "PostalCode": "2000",
                                    "Country": "Australia",
                                    "HomePhone": "(02) 555-6789",
                                    "Extension": "104",
                                    "Notes": "Leads campaigns and product launches.",
                                    "ReportsTo": "2",
                                    "PhotoPath": "http://accweb/employees/kumar.bmp",
                                    "Salary": "5300.45",
                                    "IsManager": "1"
                                },
                                {
                                    "EmployeeID": "20",
                                    "LastName": "Wilson",
                                    "FirstName": "Harry",
                                    "Title": "Warehouse Manager",
                                    "TitleOfCourtesy": "Mr.",
                                    "BirthDate": "1983-07-07 00:00:00",
                                    "HireDate": "2016-11-11 00:00:00",
                                    "Address": "75 Storage Dr",
                                    "City": "Brisbane",
                                    "Region": "QLD",
                                    "PostalCode": "4000",
                                    "Country": "Australia",
                                    "HomePhone": "(07) 555-6464",
                                    "Extension": "110",
                                    "Notes": "Oversees inventory and stock levels.",
                                    "ReportsTo": "5",
                                    "PhotoPath": "http://accweb/employees/wilson.bmp",
                                    "Salary": "5100.8",
                                    "IsManager": "1"
                                }
                            ]
                        },
                        "text/html": [
                            "<table>",
                            "<tr><th>EmployeeID</th><th>LastName</th><th>FirstName</th><th>Title</th><th>TitleOfCourtesy</th><th>BirthDate</th><th>HireDate</th><th>Address</th><th>City</th><th>Region</th><th>PostalCode</th><th>Country</th><th>HomePhone</th><th>Extension</th><th>Notes</th><th>ReportsTo</th><th>PhotoPath</th><th>Salary</th><th>IsManager</th></tr>",
                            "<tr><td>2</td><td>Fuller</td><td>Andrew</td><td>Vice President, Sales</td><td>Dr.</td><td>1952-02-19 00:00:00</td><td>1992-08-14 00:00:00</td><td>908 W. Capital Way</td><td>Tacoma</td><td>WA</td><td>98401</td><td>USA</td><td>(206) 555-9482</td><td>3457</td><td>Andrew received his BTS commercial in 1974 and a Ph.D. in international marketing from the University of Dallas in 1981.  He is fluent in French and Italian and reads German.  He joined the company as a sales representative, was promoted to sales manager in January 1992 and to vice president of sales in March 1993.  Andrew is a member of the Sales Management Roundtable, the Seattle Chamber of Commerce, and the Pacific Rim Importers Association.</td><td>NULL</td><td>http://accweb/emmployees/fuller.bmp</td><td>2254.49</td><td>1</td></tr>",
                            "<tr><td>5</td><td>Buchanan</td><td>Steven</td><td>Sales Manager</td><td>Mr.</td><td>1955-03-04 00:00:00</td><td>1993-10-17 00:00:00</td><td>14 Garrett Hill</td><td>London</td><td>NULL</td><td>SW1 8JR</td><td>UK</td><td>(71) 555-4848</td><td>3453</td><td>Steven Buchanan graduated from St. Andrews University, Scotland, with a BSC degree in 1976.  Upon joining the company as a sales representative in 1992, he spent 6 months in an orientation program at the Seattle office and then returned to his permanent post in London.  He was promoted to sales manager in March 1993.  Mr. Buchanan has completed the courses &quot;Successful Telemarketing&quot; and &quot;International Sales Management.&quot;  He is fluent in French.</td><td>2</td><td>http://accweb/emmployees/buchanan.bmp</td><td>1744.21</td><td>1</td></tr>",
                            "<tr><td>10</td><td>Nguyen</td><td>Alex</td><td>IT Specialist</td><td>Mr.</td><td>1990-07-12 00:00:00</td><td>2021-02-15 00:00:00</td><td>123 Tech Lane</td><td>Sydney</td><td>NSW</td><td>2000</td><td>Australia</td><td>(02) 555-1000</td><td>100</td><td>Expert in system infrastructure and network security.</td><td>2</td><td>http://accweb/employees/nguyen.bmp</td><td>5100.75</td><td>1</td></tr>",
                            "<tr><td>11</td><td>Tran</td><td>Linh</td><td>HR Manager</td><td>Ms.</td><td>1985-07-19 00:00:00</td><td>2018-09-01 00:00:00</td><td>22 Green Rd</td><td>Melbourne</td><td>VIC</td><td>3000</td><td>Australia</td><td>(03) 555-2345</td><td>101</td><td>Responsible for employee wellbeing and recruitment.</td><td>2</td><td>http://accweb/employees/tran.bmp</td><td>4700.6</td><td>1</td></tr>",
                            "<tr><td>12</td><td>Patel</td><td>Amit</td><td>Logistics Coordinator</td><td>Mr.</td><td>1987-07-04 00:00:00</td><td>2019-01-10 00:00:00</td><td>89 Distribution St</td><td>Brisbane</td><td>QLD</td><td>4000</td><td>Australia</td><td>(07) 555-3234</td><td>102</td><td>Manages transportation and goods flow.</td><td>5</td><td>http://accweb/employees/patel.bmp</td><td>4200.9</td><td>1</td></tr>",
                            "<tr><td>13</td><td>Smith</td><td>Emily</td><td>Finance Officer</td><td>Mrs.</td><td>1992-07-18 00:00:00</td><td>2020-06-11 00:00:00</td><td>14 Accounting Blvd</td><td>Perth</td><td>WA</td><td>6000</td><td>Australia</td><td>(08) 555-4852</td><td>103</td><td>Specialist in financial reporting and budgeting.</td><td>5</td><td>http://accweb/employees/smith.bmp</td><td>4900.0</td><td>1</td></tr>",
                            "<tr><td>14</td><td>Kumar</td><td>Raj</td><td>Marketing Manager</td><td>Mr.</td><td>1984-07-25 00:00:00</td><td>2017-04-07 00:00:00</td><td>66 Ad Street</td><td>Sydney</td><td>NSW</td><td>2000</td><td>Australia</td><td>(02) 555-6789</td><td>104</td><td>Leads campaigns and product launches.</td><td>2</td><td>http://accweb/employees/kumar.bmp</td><td>5300.45</td><td>1</td></tr>",
                            "<tr><td>20</td><td>Wilson</td><td>Harry</td><td>Warehouse Manager</td><td>Mr.</td><td>1983-07-07 00:00:00</td><td>2016-11-11 00:00:00</td><td>75 Storage Dr</td><td>Brisbane</td><td>QLD</td><td>4000</td><td>Australia</td><td>(07) 555-6464</td><td>110</td><td>Oversees inventory and stock levels.</td><td>5</td><td>http://accweb/employees/wilson.bmp</td><td>5100.8</td><td>1</td></tr>",
                            "</table>"
                        ]
                    }
                }
            ],
            "execution_count": 14
        },
        {
            "cell_type": "markdown",
            "source": [
                "### 5. Create a stored procedure to insert a new employee into the Employee table. A record of employee requires at least their name, DOB, job title (feel free to add more data field requirements). Test this procedure by creating two new employees."
            ],
            "metadata": {
                "azdata_cell_guid": "b6a46965-8f72-472e-bab8-d6c33e75f971"
            },
            "attachments": {}
        },
        {
            "cell_type": "code",
            "source": [
                "CREATE PROCEDURE CreateNewEmployee (\r\n",
                "  IN inFirstName VARCHAR(10),\r\n",
                "  IN inLastName VARCHAR(20),\r\n",
                "  IN inBirthDate DATETIME,\r\n",
                "  IN inTitle VARCHAR(30),\r\n",
                "  IN inHireDate DATETIME,\r\n",
                "  IN inAddress VARCHAR(60),\r\n",
                "  IN inCountry VARCHAR(15),\r\n",
                "  IN inHomePhone VARCHAR(24)\r\n",
                ")\r\n",
                "BEGIN\r\n",
                "  INSERT INTO Employees (\r\n",
                "    FirstName, LastName, BirthDate, Title, HireDate, Address, Country, HomePhone\r\n",
                "  )\r\n",
                "  VALUES (\r\n",
                "    inFirstName, inLastName, inBirthDate, inTitle, inHireDate, inAddress, inCountry, inHomePhone \r\n",
                "  );\r\n",
                "END;"
            ],
            "metadata": {
                "azdata_cell_guid": "b51ab677-d5cb-4ddd-8fa1-c0f1e56d133c",
                "language": "sql"
            },
            "outputs": [],
            "execution_count": null
        },
        {
            "cell_type": "code",
            "source": [
                "SHOW CREATE TABLE Employees;"
            ],
            "metadata": {
                "language": "sql",
                "azdata_cell_guid": "cc11f335-4177-4e17-9389-55d5b39f9b8c"
            },
            "outputs": [],
            "execution_count": null
        },
        {
            "cell_type": "code",
            "source": [
                "CALL CreateNewEmployee('John', 'Doe', '1990-01-01', 'Software Engineer', '2025-10-01', '123 Main St', 'USA', '(123) 456-7890', 'New employee named John');"
            ],
            "metadata": {
                "language": "sql",
                "azdata_cell_guid": "1cb705b6-9f27-412e-b3ee-c65cdbaacfcf"
            },
            "outputs": [],
            "execution_count": null
        },
        {
            "cell_type": "code",
            "source": [
                "-- Correct\r\n",
                "CREATE PROCEDURE CreateNewEmployee (\r\n",
                "  IN inFirstName VARCHAR(10),\r\n",
                "  IN inLastName VARCHAR(20),\r\n",
                "  IN inBirthDate DATETIME,\r\n",
                "  IN inTitle VARCHAR(30),\r\n",
                "  IN inHireDate DATETIME,\r\n",
                "  IN inAddress VARCHAR(60),\r\n",
                "  IN inCountry VARCHAR(15),\r\n",
                "  IN inNotes VARCHAR(255),\r\n",
                "  IN inHomePhone VARCHAR(24)\r\n",
                ")\r\n",
                "BEGIN\r\n",
                "  INSERT INTO Employees (\r\n",
                "    FirstName, LastName, BirthDate, Title, HireDate, Address, Country, HomePhone, Notes\r\n",
                "  )\r\n",
                "  VALUES (\r\n",
                "    inFirstName, inLastName, inBirthDate, inTitle, inHireDate, inAddress, inCountry, inHomePhone, inNotes\r\n",
                "  );\r\n",
                "END;"
            ],
            "metadata": {
                "language": "sql",
                "azdata_cell_guid": "461fc775-d07e-45ef-a04d-484cb2dac0f6"
            },
            "outputs": [],
            "execution_count": null
        },
        {
            "cell_type": "code",
            "source": [
                "CALL CreateNewEmployee('Alex', 'Vuong', '1998-02-02', 'Data Analyst', '2025-05-20', 'Auburn Grove', 'AU', '0412345678', 'New employee named Alex');"
            ],
            "metadata": {
                "language": "sql",
                "azdata_cell_guid": "5d5d5bec-ed21-4030-a475-d61e00baac0d"
            },
            "outputs": [],
            "execution_count": null
        },
        {
            "cell_type": "code",
            "source": [
                "SELECT * FROM `Employees` \r\n",
                "ORDER BY EmployeeID DESC\r\n",
                "LIMIT 10;"
            ],
            "metadata": {
                "language": "sql",
                "azdata_cell_guid": "03942216-1e14-4e80-a14b-b43d4d4e60c8"
            },
            "outputs": [
                {
                    "output_type": "display_data",
                    "data": {
                        "text/html": "(10 row(s) affected)"
                    },
                    "metadata": {}
                },
                {
                    "output_type": "display_data",
                    "data": {
                        "text/html": "Total execution time: 00:00:01.314"
                    },
                    "metadata": {}
                },
                {
                    "output_type": "execute_result",
                    "metadata": {},
                    "execution_count": 16,
                    "data": {
                        "application/vnd.dataresource+json": {
                            "schema": {
                                "fields": [
                                    {
                                        "name": "EmployeeID"
                                    },
                                    {
                                        "name": "LastName"
                                    },
                                    {
                                        "name": "FirstName"
                                    },
                                    {
                                        "name": "Title"
                                    },
                                    {
                                        "name": "TitleOfCourtesy"
                                    },
                                    {
                                        "name": "BirthDate"
                                    },
                                    {
                                        "name": "HireDate"
                                    },
                                    {
                                        "name": "Address"
                                    },
                                    {
                                        "name": "City"
                                    },
                                    {
                                        "name": "Region"
                                    },
                                    {
                                        "name": "PostalCode"
                                    },
                                    {
                                        "name": "Country"
                                    },
                                    {
                                        "name": "HomePhone"
                                    },
                                    {
                                        "name": "Extension"
                                    },
                                    {
                                        "name": "Notes"
                                    },
                                    {
                                        "name": "ReportsTo"
                                    },
                                    {
                                        "name": "PhotoPath"
                                    },
                                    {
                                        "name": "Salary"
                                    },
                                    {
                                        "name": "IsManager"
                                    }
                                ]
                            },
                            "data": [
                                {
                                    "EmployeeID": "31",
                                    "LastName": "Vuong",
                                    "FirstName": "Alex",
                                    "Title": "Data Analyst",
                                    "TitleOfCourtesy": "NULL",
                                    "BirthDate": "1998-02-02 00:00:00",
                                    "HireDate": "2025-05-20 00:00:00",
                                    "Address": "Auburn Grove",
                                    "City": "NULL",
                                    "Region": "NULL",
                                    "PostalCode": "NULL",
                                    "Country": "AU",
                                    "HomePhone": "New employee named Alex",
                                    "Extension": "NULL",
                                    "Notes": "0412345678",
                                    "ReportsTo": "NULL",
                                    "PhotoPath": "NULL",
                                    "Salary": "999999.0",
                                    "IsManager": "0"
                                },
                                {
                                    "EmployeeID": "30",
                                    "LastName": "Doe",
                                    "FirstName": "John",
                                    "Title": "Software Engineer",
                                    "TitleOfCourtesy": "NULL",
                                    "BirthDate": "1990-01-01 00:00:00",
                                    "HireDate": "2025-10-01 00:00:00",
                                    "Address": "123 Main St",
                                    "City": "NULL",
                                    "Region": "NULL",
                                    "PostalCode": "NULL",
                                    "Country": "USA",
                                    "HomePhone": "New employee named John",
                                    "Extension": "NULL",
                                    "Notes": "(123) 456-7890",
                                    "ReportsTo": "NULL",
                                    "PhotoPath": "NULL",
                                    "Salary": "NULL",
                                    "IsManager": "0"
                                },
                                {
                                    "EmployeeID": "29",
                                    "LastName": "Baker",
                                    "FirstName": "Sophie",
                                    "Title": "HR Advisor",
                                    "TitleOfCourtesy": "Mrs.",
                                    "BirthDate": "1989-07-17 00:00:00",
                                    "HireDate": "2021-11-01 00:00:00",
                                    "Address": "76 Welfare Rd",
                                    "City": "Hobart",
                                    "Region": "TAS",
                                    "PostalCode": "7000",
                                    "Country": "Australia",
                                    "HomePhone": "(03) 555-3434",
                                    "Extension": "119",
                                    "Notes": "Advises on policies and employee development.",
                                    "ReportsTo": "11",
                                    "PhotoPath": "http://accweb/employees/baker.bmp",
                                    "Salary": "4550.1",
                                    "IsManager": "0"
                                },
                                {
                                    "EmployeeID": "28",
                                    "LastName": "Moreno",
                                    "FirstName": "Diego",
                                    "Title": "Marketing Content Creator",
                                    "TitleOfCourtesy": "Mr.",
                                    "BirthDate": "1993-07-06 00:00:00",
                                    "HireDate": "2023-06-10 00:00:00",
                                    "Address": "45 Story Ln",
                                    "City": "Melbourne",
                                    "Region": "VIC",
                                    "PostalCode": "3000",
                                    "Country": "Australia",
                                    "HomePhone": "(03) 555-2323",
                                    "Extension": "118",
                                    "Notes": "Creates engaging content for social platforms.",
                                    "ReportsTo": "14",
                                    "PhotoPath": "http://accweb/employees/moreno.bmp",
                                    "Salary": "3750.6",
                                    "IsManager": "0"
                                },
                                {
                                    "EmployeeID": "27",
                                    "LastName": "White",
                                    "FirstName": "Chloe",
                                    "Title": "IT Intern",
                                    "TitleOfCourtesy": "Ms.",
                                    "BirthDate": "2000-07-16 00:00:00",
                                    "HireDate": "2024-02-01 00:00:00",
                                    "Address": "21 Byte Rd",
                                    "City": "Canberra",
                                    "Region": "ACT",
                                    "PostalCode": "2600",
                                    "Country": "Australia",
                                    "HomePhone": "(02) 555-3030",
                                    "Extension": "117",
                                    "Notes": "Currently assisting the infrastructure team.",
                                    "ReportsTo": "10",
                                    "PhotoPath": "http://accweb/employees/white.bmp",
                                    "Salary": "2800.0",
                                    "IsManager": "0"
                                },
                                {
                                    "EmployeeID": "26",
                                    "LastName": "Hassan",
                                    "FirstName": "Omar",
                                    "Title": "Payroll Officer",
                                    "TitleOfCourtesy": "Mr.",
                                    "BirthDate": "1990-07-09 00:00:00",
                                    "HireDate": "2020-01-08 00:00:00",
                                    "Address": "33 Payslip St",
                                    "City": "Darwin",
                                    "Region": "NT",
                                    "PostalCode": "800",
                                    "Country": "Australia",
                                    "HomePhone": "(08) 555-6161",
                                    "Extension": "116",
                                    "Notes": "Responsible for salary disbursement and reports.",
                                    "ReportsTo": "13",
                                    "PhotoPath": "http://accweb/employees/hassan.bmp",
                                    "Salary": "4300.75",
                                    "IsManager": "0"
                                },
                                {
                                    "EmployeeID": "25",
                                    "LastName": "Thompson",
                                    "FirstName": "James",
                                    "Title": "Transport Supervisor",
                                    "TitleOfCourtesy": "Mr.",
                                    "BirthDate": "1982-07-30 00:00:00",
                                    "HireDate": "2015-10-10 00:00:00",
                                    "Address": "102 Delivery Ln",
                                    "City": "Perth",
                                    "Region": "WA",
                                    "PostalCode": "6000",
                                    "Country": "Australia",
                                    "HomePhone": "(08) 555-4444",
                                    "Extension": "115",
                                    "Notes": "Coordinates delivery teams across regions.",
                                    "ReportsTo": "12",
                                    "PhotoPath": "http://accweb/employees/thompson.bmp",
                                    "Salary": "4700.0",
                                    "IsManager": "0"
                                },
                                {
                                    "EmployeeID": "24",
                                    "LastName": "Ali",
                                    "FirstName": "Sara",
                                    "Title": "Customer Service Officer",
                                    "TitleOfCourtesy": "Ms.",
                                    "BirthDate": "1997-07-20 00:00:00",
                                    "HireDate": "2022-09-19 00:00:00",
                                    "Address": "17 Help Desk St",
                                    "City": "Adelaide",
                                    "Region": "SA",
                                    "PostalCode": "5000",
                                    "Country": "Australia",
                                    "HomePhone": "(08) 555-7733",
                                    "Extension": "114",
                                    "Notes": "Handles customer queries and feedback.",
                                    "ReportsTo": "20",
                                    "PhotoPath": "http://accweb/employees/ali.bmp",
                                    "Salary": "3100.0",
                                    "IsManager": "0"
                                },
                                {
                                    "EmployeeID": "23",
                                    "LastName": "Cruz",
                                    "FirstName": "Isabella",
                                    "Title": "Marketing Analyst",
                                    "TitleOfCourtesy": "Ms.",
                                    "BirthDate": "1994-07-05 00:00:00",
                                    "HireDate": "2022-07-01 00:00:00",
                                    "Address": "56 Branding Ln",
                                    "City": "Melbourne",
                                    "Region": "VIC",
                                    "PostalCode": "3000",
                                    "Country": "Australia",
                                    "HomePhone": "(03) 555-2200",
                                    "Extension": "113",
                                    "Notes": "Conducts market research and surveys.",
                                    "ReportsTo": "14",
                                    "PhotoPath": "http://accweb/employees/cruz.bmp",
                                    "Salary": "3900.55",
                                    "IsManager": "0"
                                },
                                {
                                    "EmployeeID": "22",
                                    "LastName": "Ng",
                                    "FirstName": "Tom",
                                    "Title": "Finance Analyst",
                                    "TitleOfCourtesy": "Mr.",
                                    "BirthDate": "1991-07-15 00:00:00",
                                    "HireDate": "2021-04-14 00:00:00",
                                    "Address": "9 Ledger St",
                                    "City": "Canberra",
                                    "Region": "ACT",
                                    "PostalCode": "2600",
                                    "Country": "Australia",
                                    "HomePhone": "(02) 555-9191",
                                    "Extension": "112",
                                    "Notes": "Analyzes monthly and quarterly financials.",
                                    "ReportsTo": "13",
                                    "PhotoPath": "http://accweb/employees/ng.bmp",
                                    "Salary": "4650.3",
                                    "IsManager": "0"
                                }
                            ]
                        },
                        "text/html": [
                            "<table>",
                            "<tr><th>EmployeeID</th><th>LastName</th><th>FirstName</th><th>Title</th><th>TitleOfCourtesy</th><th>BirthDate</th><th>HireDate</th><th>Address</th><th>City</th><th>Region</th><th>PostalCode</th><th>Country</th><th>HomePhone</th><th>Extension</th><th>Notes</th><th>ReportsTo</th><th>PhotoPath</th><th>Salary</th><th>IsManager</th></tr>",
                            "<tr><td>31</td><td>Vuong</td><td>Alex</td><td>Data Analyst</td><td>NULL</td><td>1998-02-02 00:00:00</td><td>2025-05-20 00:00:00</td><td>Auburn Grove</td><td>NULL</td><td>NULL</td><td>NULL</td><td>AU</td><td>New employee named Alex</td><td>NULL</td><td>0412345678</td><td>NULL</td><td>NULL</td><td>999999.0</td><td>0</td></tr>",
                            "<tr><td>30</td><td>Doe</td><td>John</td><td>Software Engineer</td><td>NULL</td><td>1990-01-01 00:00:00</td><td>2025-10-01 00:00:00</td><td>123 Main St</td><td>NULL</td><td>NULL</td><td>NULL</td><td>USA</td><td>New employee named John</td><td>NULL</td><td>(123) 456-7890</td><td>NULL</td><td>NULL</td><td>NULL</td><td>0</td></tr>",
                            "<tr><td>29</td><td>Baker</td><td>Sophie</td><td>HR Advisor</td><td>Mrs.</td><td>1989-07-17 00:00:00</td><td>2021-11-01 00:00:00</td><td>76 Welfare Rd</td><td>Hobart</td><td>TAS</td><td>7000</td><td>Australia</td><td>(03) 555-3434</td><td>119</td><td>Advises on policies and employee development.</td><td>11</td><td>http://accweb/employees/baker.bmp</td><td>4550.1</td><td>0</td></tr>",
                            "<tr><td>28</td><td>Moreno</td><td>Diego</td><td>Marketing Content Creator</td><td>Mr.</td><td>1993-07-06 00:00:00</td><td>2023-06-10 00:00:00</td><td>45 Story Ln</td><td>Melbourne</td><td>VIC</td><td>3000</td><td>Australia</td><td>(03) 555-2323</td><td>118</td><td>Creates engaging content for social platforms.</td><td>14</td><td>http://accweb/employees/moreno.bmp</td><td>3750.6</td><td>0</td></tr>",
                            "<tr><td>27</td><td>White</td><td>Chloe</td><td>IT Intern</td><td>Ms.</td><td>2000-07-16 00:00:00</td><td>2024-02-01 00:00:00</td><td>21 Byte Rd</td><td>Canberra</td><td>ACT</td><td>2600</td><td>Australia</td><td>(02) 555-3030</td><td>117</td><td>Currently assisting the infrastructure team.</td><td>10</td><td>http://accweb/employees/white.bmp</td><td>2800.0</td><td>0</td></tr>",
                            "<tr><td>26</td><td>Hassan</td><td>Omar</td><td>Payroll Officer</td><td>Mr.</td><td>1990-07-09 00:00:00</td><td>2020-01-08 00:00:00</td><td>33 Payslip St</td><td>Darwin</td><td>NT</td><td>800</td><td>Australia</td><td>(08) 555-6161</td><td>116</td><td>Responsible for salary disbursement and reports.</td><td>13</td><td>http://accweb/employees/hassan.bmp</td><td>4300.75</td><td>0</td></tr>",
                            "<tr><td>25</td><td>Thompson</td><td>James</td><td>Transport Supervisor</td><td>Mr.</td><td>1982-07-30 00:00:00</td><td>2015-10-10 00:00:00</td><td>102 Delivery Ln</td><td>Perth</td><td>WA</td><td>6000</td><td>Australia</td><td>(08) 555-4444</td><td>115</td><td>Coordinates delivery teams across regions.</td><td>12</td><td>http://accweb/employees/thompson.bmp</td><td>4700.0</td><td>0</td></tr>",
                            "<tr><td>24</td><td>Ali</td><td>Sara</td><td>Customer Service Officer</td><td>Ms.</td><td>1997-07-20 00:00:00</td><td>2022-09-19 00:00:00</td><td>17 Help Desk St</td><td>Adelaide</td><td>SA</td><td>5000</td><td>Australia</td><td>(08) 555-7733</td><td>114</td><td>Handles customer queries and feedback.</td><td>20</td><td>http://accweb/employees/ali.bmp</td><td>3100.0</td><td>0</td></tr>",
                            "<tr><td>23</td><td>Cruz</td><td>Isabella</td><td>Marketing Analyst</td><td>Ms.</td><td>1994-07-05 00:00:00</td><td>2022-07-01 00:00:00</td><td>56 Branding Ln</td><td>Melbourne</td><td>VIC</td><td>3000</td><td>Australia</td><td>(03) 555-2200</td><td>113</td><td>Conducts market research and surveys.</td><td>14</td><td>http://accweb/employees/cruz.bmp</td><td>3900.55</td><td>0</td></tr>",
                            "<tr><td>22</td><td>Ng</td><td>Tom</td><td>Finance Analyst</td><td>Mr.</td><td>1991-07-15 00:00:00</td><td>2021-04-14 00:00:00</td><td>9 Ledger St</td><td>Canberra</td><td>ACT</td><td>2600</td><td>Australia</td><td>(02) 555-9191</td><td>112</td><td>Analyzes monthly and quarterly financials.</td><td>13</td><td>http://accweb/employees/ng.bmp</td><td>4650.3</td><td>0</td></tr>",
                            "</table>"
                        ]
                    }
                }
            ],
            "execution_count": 16
        },
        {
            "cell_type": "markdown",
            "source": [
                "### 6. Create a database user named finance_db_admin . Create a procedure that helps update an employee salary using their employee’s ID. Give the finance_db_admin permission to run this procedure. Test it by logging in as finance_db_admin and modify the salary for two people."
            ],
            "metadata": {
                "language": "sql",
                "azdata_cell_guid": "8b75e03c-2288-41f4-9338-10807c132ed1"
            },
            "attachments": {}
        },
        {
            "cell_type": "code",
            "source": [
                "CREATE USER 'finance_db_admin'@'%' IDENTIFIED BY 'Financ3!';"
            ],
            "metadata": {
                "language": "sql",
                "azdata_cell_guid": "cb9ddbef-f2f0-4bce-b5ed-a231d548d12b"
            },
            "outputs": [],
            "execution_count": null
        },
        {
            "cell_type": "code",
            "source": [
                "CREATE PROCEDURE UpdateEmployeeSalary (\r\n",
                "  IN inEmployeeID INT,\r\n",
                "  IN inNewSalary DECIMAL(10,2)\r\n",
                ")\r\n",
                "BEGIN\r\n",
                "  UPDATE Employees\r\n",
                "  SET Salary = inNewSalary\r\n",
                "  WHERE EmployeeID = inEmployeeID;\r\n",
                "END;"
            ],
            "metadata": {
                "language": "sql",
                "azdata_cell_guid": "aca10a5a-d76b-4e00-a293-444b581a1803"
            },
            "outputs": [],
            "execution_count": null
        },
        {
            "cell_type": "code",
            "source": [
                "GRANT SELECT ON lesson6_northwind.* TO 'finance_db_admin'@'%';\r\n",
                "\r\n",
                "GRANT EXECUTE ON PROCEDURE UpdateEmployeeSalary TO 'finance_db_admin'@'%';"
            ],
            "metadata": {
                "language": "sql",
                "azdata_cell_guid": "d1435cda-0397-4a1e-ae9f-84073a770066"
            },
            "outputs": [],
            "execution_count": null
        },
        {
            "cell_type": "code",
            "source": [
                "CALL `UpdateEmployeeSalary`(31, 999999.00);\r\n",
                "\r\n",
                "SELECT * FROM `Employees`;"
            ],
            "metadata": {
                "language": "sql",
                "azdata_cell_guid": "12a191fc-b330-4251-ae75-31a8fe32780e"
            },
            "outputs": [],
            "execution_count": null
        },
        {
            "cell_type": "markdown",
            "source": [
                "### 7. Create a view with total revenues per customer."
            ],
            "metadata": {
                "language": "sql",
                "azdata_cell_guid": "87a2d908-26b1-4bcd-8d33-9c269dc07021"
            },
            "attachments": {}
        },
        {
            "cell_type": "code",
            "source": [
                "SELECT * FROM `OrderDetails` LIMIT 10;\r\n",
                "\r\n",
                "SELECT * FROM `OrderDetails` WHERE `Discount` > 0 LIMIT 10;\r\n",
                "\r\n",
                "SELECT \r\n",
                "    ROUND(SUM(UnitPrice * Quantity), 2) AS TotalRevenue\r\n",
                "FROM OrderDetails;"
            ],
            "metadata": {
                "language": "sql",
                "azdata_cell_guid": "af19a824-79b9-466a-9418-ab8f99c21a67"
            },
            "outputs": [
                {
                    "output_type": "display_data",
                    "data": {
                        "text/html": "(10 row(s) affected)"
                    },
                    "metadata": {}
                },
                {
                    "output_type": "display_data",
                    "data": {
                        "text/html": "(0 row(s) affected)"
                    },
                    "metadata": {}
                },
                {
                    "output_type": "display_data",
                    "data": {
                        "text/html": "(1 row(s) affected)"
                    },
                    "metadata": {}
                },
                {
                    "output_type": "display_data",
                    "data": {
                        "text/html": "Total execution time: 00:00:04.018"
                    },
                    "metadata": {}
                },
                {
                    "output_type": "execute_result",
                    "metadata": {},
                    "execution_count": 22,
                    "data": {
                        "application/vnd.dataresource+json": {
                            "schema": {
                                "fields": [
                                    {
                                        "name": "OrderID"
                                    },
                                    {
                                        "name": "ProductID"
                                    },
                                    {
                                        "name": "UnitPrice"
                                    },
                                    {
                                        "name": "Quantity"
                                    },
                                    {
                                        "name": "Discount"
                                    }
                                ]
                            },
                            "data": [
                                {
                                    "OrderID": "10248",
                                    "ProductID": "11",
                                    "UnitPrice": "14.0000",
                                    "Quantity": "12",
                                    "Discount": "0.0"
                                },
                                {
                                    "OrderID": "10248",
                                    "ProductID": "42",
                                    "UnitPrice": "9.8000",
                                    "Quantity": "10",
                                    "Discount": "0.0"
                                },
                                {
                                    "OrderID": "10248",
                                    "ProductID": "72",
                                    "UnitPrice": "34.8000",
                                    "Quantity": "5",
                                    "Discount": "0.0"
                                },
                                {
                                    "OrderID": "10249",
                                    "ProductID": "14",
                                    "UnitPrice": "18.6000",
                                    "Quantity": "9",
                                    "Discount": "0.0"
                                },
                                {
                                    "OrderID": "10249",
                                    "ProductID": "51",
                                    "UnitPrice": "42.4000",
                                    "Quantity": "40",
                                    "Discount": "0.0"
                                },
                                {
                                    "OrderID": "10250",
                                    "ProductID": "41",
                                    "UnitPrice": "7.7000",
                                    "Quantity": "10",
                                    "Discount": "0.0"
                                },
                                {
                                    "OrderID": "10250",
                                    "ProductID": "51",
                                    "UnitPrice": "42.4000",
                                    "Quantity": "35",
                                    "Discount": "0.0"
                                },
                                {
                                    "OrderID": "10250",
                                    "ProductID": "65",
                                    "UnitPrice": "16.8000",
                                    "Quantity": "15",
                                    "Discount": "0.0"
                                },
                                {
                                    "OrderID": "10251",
                                    "ProductID": "22",
                                    "UnitPrice": "16.8000",
                                    "Quantity": "6",
                                    "Discount": "0.0"
                                },
                                {
                                    "OrderID": "10251",
                                    "ProductID": "57",
                                    "UnitPrice": "15.6000",
                                    "Quantity": "15",
                                    "Discount": "0.0"
                                }
                            ]
                        },
                        "text/html": [
                            "<table>",
                            "<tr><th>OrderID</th><th>ProductID</th><th>UnitPrice</th><th>Quantity</th><th>Discount</th></tr>",
                            "<tr><td>10248</td><td>11</td><td>14.0000</td><td>12</td><td>0.0</td></tr>",
                            "<tr><td>10248</td><td>42</td><td>9.8000</td><td>10</td><td>0.0</td></tr>",
                            "<tr><td>10248</td><td>72</td><td>34.8000</td><td>5</td><td>0.0</td></tr>",
                            "<tr><td>10249</td><td>14</td><td>18.6000</td><td>9</td><td>0.0</td></tr>",
                            "<tr><td>10249</td><td>51</td><td>42.4000</td><td>40</td><td>0.0</td></tr>",
                            "<tr><td>10250</td><td>41</td><td>7.7000</td><td>10</td><td>0.0</td></tr>",
                            "<tr><td>10250</td><td>51</td><td>42.4000</td><td>35</td><td>0.0</td></tr>",
                            "<tr><td>10250</td><td>65</td><td>16.8000</td><td>15</td><td>0.0</td></tr>",
                            "<tr><td>10251</td><td>22</td><td>16.8000</td><td>6</td><td>0.0</td></tr>",
                            "<tr><td>10251</td><td>57</td><td>15.6000</td><td>15</td><td>0.0</td></tr>",
                            "</table>"
                        ]
                    }
                },
                {
                    "output_type": "execute_result",
                    "metadata": {},
                    "execution_count": 22,
                    "data": {
                        "application/vnd.dataresource+json": {
                            "schema": {
                                "fields": [
                                    {
                                        "name": "OrderID"
                                    },
                                    {
                                        "name": "ProductID"
                                    },
                                    {
                                        "name": "UnitPrice"
                                    },
                                    {
                                        "name": "Quantity"
                                    },
                                    {
                                        "name": "Discount"
                                    }
                                ]
                            },
                            "data": []
                        },
                        "text/html": [
                            "<table>",
                            "<tr><th>OrderID</th><th>ProductID</th><th>UnitPrice</th><th>Quantity</th><th>Discount</th></tr>",
                            "</table>"
                        ]
                    }
                },
                {
                    "output_type": "execute_result",
                    "metadata": {},
                    "execution_count": 22,
                    "data": {
                        "application/vnd.dataresource+json": {
                            "schema": {
                                "fields": [
                                    {
                                        "name": "TotalRevenue"
                                    }
                                ]
                            },
                            "data": [
                                {
                                    "TotalRevenue": "1354458.59"
                                }
                            ]
                        },
                        "text/html": [
                            "<table>",
                            "<tr><th>TotalRevenue</th></tr>",
                            "<tr><td>1354458.59</td></tr>",
                            "</table>"
                        ]
                    }
                }
            ],
            "execution_count": 22
        },
        {
            "cell_type": "code",
            "source": [
                "CREATE VIEW CustomerTotalRevenue AS\r\n",
                "SELECT \r\n",
                "    o.CustomerID,\r\n",
                "    c.CompanyName,\r\n",
                "    ROUND(SUM(od.UnitPrice * od.Quantity), 2) AS TotalRevenue\r\n",
                "FROM Orders o\r\n",
                "INNER JOIN OrderDetails od ON o.OrderID = od.OrderID\r\n",
                "INNER JOIN Customers c ON o.CustomerID = c.CustomerID\r\n",
                "GROUP BY o.CustomerID, c.CompanyName\r\n",
                "ORDER BY TotalRevenue DESC;"
            ],
            "metadata": {
                "azdata_cell_guid": "045d8cdf-7eb1-45f9-b0fa-d2023ab9c1dc",
                "language": "sql"
            },
            "outputs": [],
            "execution_count": null
        },
        {
            "cell_type": "code",
            "source": [
                "SELECT * FROM `CustomerTotalRevenue`;"
            ],
            "metadata": {
                "language": "sql",
                "azdata_cell_guid": "a7734b31-9438-4947-a431-56243b3a3d17"
            },
            "outputs": [
                {
                    "output_type": "display_data",
                    "data": {
                        "text/html": "(89 row(s) affected)"
                    },
                    "metadata": {}
                },
                {
                    "output_type": "display_data",
                    "data": {
                        "text/html": "Total execution time: 00:00:01.314"
                    },
                    "metadata": {}
                },
                {
                    "output_type": "execute_result",
                    "metadata": {},
                    "execution_count": 23,
                    "data": {
                        "application/vnd.dataresource+json": {
                            "schema": {
                                "fields": [
                                    {
                                        "name": "CustomerID"
                                    },
                                    {
                                        "name": "CompanyName"
                                    },
                                    {
                                        "name": "TotalRevenue"
                                    }
                                ]
                            },
                            "data": [
                                {
                                    "CustomerID": "QUICK",
                                    "CompanyName": "QUICK-Stop",
                                    "TotalRevenue": "117483.39"
                                },
                                {
                                    "CustomerID": "SAVEA",
                                    "CompanyName": "Save-a-lot Markets",
                                    "TotalRevenue": "115673.39"
                                },
                                {
                                    "CustomerID": "ERNSH",
                                    "CompanyName": "Ernst Handel",
                                    "TotalRevenue": "113236.68"
                                },
                                {
                                    "CustomerID": "HUNGO",
                                    "CompanyName": "Hungry Owl All-Night Grocers",
                                    "TotalRevenue": "57317.39"
                                },
                                {
                                    "CustomerID": "RATTC",
                                    "CompanyName": "Rattlesnake Canyon Grocery",
                                    "TotalRevenue": "52245.90"
                                },
                                {
                                    "CustomerID": "HANAR",
                                    "CompanyName": "Hanari Carnes",
                                    "TotalRevenue": "34101.15"
                                },
                                {
                                    "CustomerID": "FOLKO",
                                    "CompanyName": "Folk och f HB",
                                    "TotalRevenue": "32555.55"
                                },
                                {
                                    "CustomerID": "MEREP",
                                    "CompanyName": "Mre Paillarde",
                                    "TotalRevenue": "32203.90"
                                },
                                {
                                    "CustomerID": "KOENE",
                                    "CompanyName": "Kniglich Essen",
                                    "TotalRevenue": "31745.75"
                                },
                                {
                                    "CustomerID": "QUEEN",
                                    "CompanyName": "Queen Cozinha",
                                    "TotalRevenue": "30226.10"
                                },
                                {
                                    "CustomerID": "WHITC",
                                    "CompanyName": "White Clover Markets",
                                    "TotalRevenue": "29073.45"
                                },
                                {
                                    "CustomerID": "FRANK",
                                    "CompanyName": "Frankenversand",
                                    "TotalRevenue": "28722.71"
                                },
                                {
                                    "CustomerID": "BERGS",
                                    "CompanyName": "Berglunds snabbkp",
                                    "TotalRevenue": "26968.15"
                                },
                                {
                                    "CustomerID": "PICCO",
                                    "CompanyName": "Piccolo und mehr",
                                    "TotalRevenue": "26259.95"
                                },
                                {
                                    "CustomerID": "SUPRD",
                                    "CompanyName": "Suprmes dlices",
                                    "TotalRevenue": "24704.40"
                                },
                                {
                                    "CustomerID": "BONAP",
                                    "CompanyName": "Bon app'",
                                    "TotalRevenue": "23850.95"
                                },
                                {
                                    "CustomerID": "HILAA",
                                    "CompanyName": "HILARION-Abastos",
                                    "TotalRevenue": "23611.58"
                                },
                                {
                                    "CustomerID": "BOTTM",
                                    "CompanyName": "Bottom-Dollar Markets",
                                    "TotalRevenue": "22607.70"
                                },
                                {
                                    "CustomerID": "LEHMS",
                                    "CompanyName": "Lehmanns Marktstand",
                                    "TotalRevenue": "21282.02"
                                },
                                {
                                    "CustomerID": "RICSU",
                                    "CompanyName": "Richter Supermarkt",
                                    "TotalRevenue": "20033.20"
                                },
                                {
                                    "CustomerID": "GREAL",
                                    "CompanyName": "Great Lakes Food Market",
                                    "TotalRevenue": "19711.13"
                                },
                                {
                                    "CustomerID": "BLONP",
                                    "CompanyName": "Blondesddsl pre et fils",
                                    "TotalRevenue": "19088.00"
                                },
                                {
                                    "CustomerID": "SIMOB",
                                    "CompanyName": "Simons bistro",
                                    "TotalRevenue": "18138.45"
                                },
                                {
                                    "CustomerID": "LINOD",
                                    "CompanyName": "LINO-Delicateses",
                                    "TotalRevenue": "17889.55"
                                },
                                {
                                    "CustomerID": "LILAS",
                                    "CompanyName": "LILA-Supermercado",
                                    "TotalRevenue": "17825.06"
                                },
                                {
                                    "CustomerID": "SEVES",
                                    "CompanyName": "Seven Seas Imports",
                                    "TotalRevenue": "17172.05"
                                },
                                {
                                    "CustomerID": "VAFFE",
                                    "CompanyName": "Vaffeljernet",
                                    "TotalRevenue": "16643.80"
                                },
                                {
                                    "CustomerID": "WARTH",
                                    "CompanyName": "Wartian Herkku",
                                    "TotalRevenue": "16617.10"
                                },
                                {
                                    "CustomerID": "OLDWO",
                                    "CompanyName": "Old World Delicatessen",
                                    "TotalRevenue": "16325.15"
                                },
                                {
                                    "CustomerID": "EASTC",
                                    "CompanyName": "Eastern Connection",
                                    "TotalRevenue": "15033.66"
                                },
                                {
                                    "CustomerID": "AROUT",
                                    "CompanyName": "Around the Horn",
                                    "TotalRevenue": "13806.50"
                                },
                                {
                                    "CustomerID": "OTTIK",
                                    "CompanyName": "Ottilies Kseladen",
                                    "TotalRevenue": "13157.50"
                                },
                                {
                                    "CustomerID": "RICAR",
                                    "CompanyName": "Ricardo Adocicados",
                                    "TotalRevenue": "12924.40"
                                },
                                {
                                    "CustomerID": "CHOPS",
                                    "CompanyName": "Chop-suey Chinese",
                                    "TotalRevenue": "12886.30"
                                },
                                {
                                    "CustomerID": "SPLIR",
                                    "CompanyName": "Split Rail Beer & Ale",
                                    "TotalRevenue": "12489.70"
                                },
                                {
                                    "CustomerID": "GODOS",
                                    "CompanyName": "Godos Cocina Tpica",
                                    "TotalRevenue": "11830.10"
                                },
                                {
                                    "CustomerID": "FOLIG",
                                    "CompanyName": "Folies gourmandes",
                                    "TotalRevenue": "11666.90"
                                },
                                {
                                    "CustomerID": "TORTU",
                                    "CompanyName": "Tortuga Restaurante",
                                    "TotalRevenue": "10812.15"
                                },
                                {
                                    "CustomerID": "WANDK",
                                    "CompanyName": "Die Wandernde Kuh",
                                    "TotalRevenue": "10653.85"
                                },
                                {
                                    "CustomerID": "MAISD",
                                    "CompanyName": "Maison Dewey",
                                    "TotalRevenue": "10430.58"
                                },
                                {
                                    "CustomerID": "LAMAI",
                                    "CompanyName": "La maison d'Asie",
                                    "TotalRevenue": "10272.35"
                                },
                                {
                                    "CustomerID": "VICTE",
                                    "CompanyName": "Victuailles en stock",
                                    "TotalRevenue": "9937.10"
                                },
                                {
                                    "CustomerID": "GOURL",
                                    "CompanyName": "Gourmet Lanchonetes",
                                    "TotalRevenue": "8702.23"
                                },
                                {
                                    "CustomerID": "MAGAA",
                                    "CompanyName": "Magazzini Alimentari Riuniti",
                                    "TotalRevenue": "7603.85"
                                },
                                {
                                    "CustomerID": "REGGC",
                                    "CompanyName": "Reggiani Caseifici",
                                    "TotalRevenue": "7555.60"
                                },
                                {
                                    "CustomerID": "ANTON",
                                    "CompanyName": "Antonio Moreno Taquera",
                                    "TotalRevenue": "7515.35"
                                },
                                {
                                    "CustomerID": "TRADH",
                                    "CompanyName": "Tradio Hipermercados",
                                    "TotalRevenue": "7310.62"
                                },
                                {
                                    "CustomerID": "FURIB",
                                    "CompanyName": "Furia Bacalhau e Frutos do Mar",
                                    "TotalRevenue": "7151.55"
                                },
                                {
                                    "CustomerID": "QUEDE",
                                    "CompanyName": "Que Delcia",
                                    "TotalRevenue": "6973.63"
                                },
                                {
                                    "CustomerID": "WELLI",
                                    "CompanyName": "Wellington Importadora",
                                    "TotalRevenue": "6480.70"
                                },
                                {
                                    "CustomerID": "ISLAT",
                                    "CompanyName": "Island Trading",
                                    "TotalRevenue": "6146.30"
                                },
                                {
                                    "CustomerID": "BSBEV",
                                    "CompanyName": "B's Beverages",
                                    "TotalRevenue": "6089.90"
                                },
                                {
                                    "CustomerID": "SANTG",
                                    "CompanyName": "Sant Gourmet",
                                    "TotalRevenue": "5735.15"
                                },
                                {
                                    "CustomerID": "PRINI",
                                    "CompanyName": "Princesa Isabel Vinhos",
                                    "TotalRevenue": "5317.10"
                                },
                                {
                                    "CustomerID": "BOLID",
                                    "CompanyName": "Blido Comidas preparadas",
                                    "TotalRevenue": "5297.80"
                                },
                                {
                                    "CustomerID": "MORGK",
                                    "CompanyName": "Morgenstern Gesundkost",
                                    "TotalRevenue": "5042.20"
                                },
                                {
                                    "CustomerID": "TOMSP",
                                    "CompanyName": "Toms Spezialitten",
                                    "TotalRevenue": "4954.00"
                                },
                                {
                                    "CustomerID": "ALFKI",
                                    "CompanyName": "Alfreds Futterkiste",
                                    "TotalRevenue": "4596.20"
                                },
                                {
                                    "CustomerID": "FAMIA",
                                    "CompanyName": "Familia Arquibaldo",
                                    "TotalRevenue": "4438.90"
                                },
                                {
                                    "CustomerID": "LONEP",
                                    "CompanyName": "Lonesome Pine Restaurant",
                                    "TotalRevenue": "4258.60"
                                },
                                {
                                    "CustomerID": "PERIC",
                                    "CompanyName": "Pericles Comidas clsicas",
                                    "TotalRevenue": "4242.20"
                                },
                                {
                                    "CustomerID": "COMMI",
                                    "CompanyName": "Comrcio Mineiro",
                                    "TotalRevenue": "3810.75"
                                },
                                {
                                    "CustomerID": "DRACD",
                                    "CompanyName": "Drachenblut Delikatessen",
                                    "TotalRevenue": "3763.21"
                                },
                                {
                                    "CustomerID": "WOLZA",
                                    "CompanyName": "Wolski  Zajazd",
                                    "TotalRevenue": "3531.95"
                                },
                                {
                                    "CustomerID": "LETSS",
                                    "CompanyName": "Let's Stop N Shop",
                                    "TotalRevenue": "3490.02"
                                },
                                {
                                    "CustomerID": "OCEAN",
                                    "CompanyName": "Ocano Atlntico Ltda.",
                                    "TotalRevenue": "3460.20"
                                },
                                {
                                    "CustomerID": "THEBI",
                                    "CompanyName": "The Big Cheese",
                                    "TotalRevenue": "3361.00"
                                },
                                {
                                    "CustomerID": "BLAUS",
                                    "CompanyName": "Blauer See Delikatessen",
                                    "TotalRevenue": "3239.80"
                                },
                                {
                                    "CustomerID": "FRANR",
                                    "CompanyName": "France restauration",
                                    "TotalRevenue": "3172.16"
                                },
                                {
                                    "CustomerID": "WILMK",
                                    "CompanyName": "Wilman Kala",
                                    "TotalRevenue": "3161.35"
                                },
                                {
                                    "CustomerID": "HUNGC",
                                    "CompanyName": "Hungry Coyote Import Store",
                                    "TotalRevenue": "3063.20"
                                },
                                {
                                    "CustomerID": "RANCH",
                                    "CompanyName": "Rancho grande",
                                    "TotalRevenue": "2844.10"
                                },
                                {
                                    "CustomerID": "SPECD",
                                    "CompanyName": "Spcialits du monde",
                                    "TotalRevenue": "2423.35"
                                },
                                {
                                    "CustomerID": "LACOR",
                                    "CompanyName": "La corne d'abondance",
                                    "TotalRevenue": "1992.05"
                                },
                                {
                                    "CustomerID": "THECR",
                                    "CompanyName": "The Cracker Box",
                                    "TotalRevenue": "1947.24"
                                },
                                {
                                    "CustomerID": "CACTU",
                                    "CompanyName": "Cactus Comidas para llevar",
                                    "TotalRevenue": "1814.80"
                                },
                                {
                                    "CustomerID": "CONSH",
                                    "CompanyName": "Consolidated Holdings",
                                    "TotalRevenue": "1719.10"
                                },
                                {
                                    "CustomerID": "DUMON",
                                    "CompanyName": "Du monde entier",
                                    "TotalRevenue": "1615.90"
                                },
                                {
                                    "CustomerID": "TRAIH",
                                    "CompanyName": "Trail's Head Gourmet Provisioners",
                                    "TotalRevenue": "1571.20"
                                },
                                {
                                    "CustomerID": "FRANS",
                                    "CompanyName": "Franchi S.p.A.",
                                    "TotalRevenue": "1545.70"
                                },
                                {
                                    "CustomerID": "GROSR",
                                    "CompanyName": "GROSELLA-Restaurante",
                                    "TotalRevenue": "1488.70"
                                },
                                {
                                    "CustomerID": "VINET",
                                    "CompanyName": "Vins et alcools Chevalier",
                                    "TotalRevenue": "1480.00"
                                },
                                {
                                    "CustomerID": "ROMEY",
                                    "CompanyName": "Romero y tomillo",
                                    "TotalRevenue": "1467.29"
                                },
                                {
                                    "CustomerID": "ANATR",
                                    "CompanyName": "Ana Trujillo Emparedados y helados",
                                    "TotalRevenue": "1402.95"
                                },
                                {
                                    "CustomerID": "GALED",
                                    "CompanyName": "Galera del gastrnomo",
                                    "TotalRevenue": "836.70"
                                },
                                {
                                    "CustomerID": "NORTS",
                                    "CompanyName": "North/South",
                                    "TotalRevenue": "649.00"
                                },
                                {
                                    "CustomerID": "LAUGB",
                                    "CompanyName": "Laughing Bacchus Wine Cellars",
                                    "TotalRevenue": "522.50"
                                },
                                {
                                    "CustomerID": "LAZYK",
                                    "CompanyName": "Lazy K Kountry Store",
                                    "TotalRevenue": "357.00"
                                },
                                {
                                    "CustomerID": "CENTC",
                                    "CompanyName": "Centro comercial Moctezuma",
                                    "TotalRevenue": "100.80"
                                }
                            ]
                        },
                        "text/html": [
                            "<table>",
                            "<tr><th>CustomerID</th><th>CompanyName</th><th>TotalRevenue</th></tr>",
                            "<tr><td>QUICK</td><td>QUICK-Stop</td><td>117483.39</td></tr>",
                            "<tr><td>SAVEA</td><td>Save-a-lot Markets</td><td>115673.39</td></tr>",
                            "<tr><td>ERNSH</td><td>Ernst Handel</td><td>113236.68</td></tr>",
                            "<tr><td>HUNGO</td><td>Hungry Owl All-Night Grocers</td><td>57317.39</td></tr>",
                            "<tr><td>RATTC</td><td>Rattlesnake Canyon Grocery</td><td>52245.90</td></tr>",
                            "<tr><td>HANAR</td><td>Hanari Carnes</td><td>34101.15</td></tr>",
                            "<tr><td>FOLKO</td><td>Folk och f HB</td><td>32555.55</td></tr>",
                            "<tr><td>MEREP</td><td>Mre Paillarde</td><td>32203.90</td></tr>",
                            "<tr><td>KOENE</td><td>Kniglich Essen</td><td>31745.75</td></tr>",
                            "<tr><td>QUEEN</td><td>Queen Cozinha</td><td>30226.10</td></tr>",
                            "<tr><td>WHITC</td><td>White Clover Markets</td><td>29073.45</td></tr>",
                            "<tr><td>FRANK</td><td>Frankenversand</td><td>28722.71</td></tr>",
                            "<tr><td>BERGS</td><td>Berglunds snabbkp</td><td>26968.15</td></tr>",
                            "<tr><td>PICCO</td><td>Piccolo und mehr</td><td>26259.95</td></tr>",
                            "<tr><td>SUPRD</td><td>Suprmes dlices</td><td>24704.40</td></tr>",
                            "<tr><td>BONAP</td><td>Bon app&#39;</td><td>23850.95</td></tr>",
                            "<tr><td>HILAA</td><td>HILARION-Abastos</td><td>23611.58</td></tr>",
                            "<tr><td>BOTTM</td><td>Bottom-Dollar Markets</td><td>22607.70</td></tr>",
                            "<tr><td>LEHMS</td><td>Lehmanns Marktstand</td><td>21282.02</td></tr>",
                            "<tr><td>RICSU</td><td>Richter Supermarkt</td><td>20033.20</td></tr>",
                            "<tr><td>GREAL</td><td>Great Lakes Food Market</td><td>19711.13</td></tr>",
                            "<tr><td>BLONP</td><td>Blondesddsl pre et fils</td><td>19088.00</td></tr>",
                            "<tr><td>SIMOB</td><td>Simons bistro</td><td>18138.45</td></tr>",
                            "<tr><td>LINOD</td><td>LINO-Delicateses</td><td>17889.55</td></tr>",
                            "<tr><td>LILAS</td><td>LILA-Supermercado</td><td>17825.06</td></tr>",
                            "<tr><td>SEVES</td><td>Seven Seas Imports</td><td>17172.05</td></tr>",
                            "<tr><td>VAFFE</td><td>Vaffeljernet</td><td>16643.80</td></tr>",
                            "<tr><td>WARTH</td><td>Wartian Herkku</td><td>16617.10</td></tr>",
                            "<tr><td>OLDWO</td><td>Old World Delicatessen</td><td>16325.15</td></tr>",
                            "<tr><td>EASTC</td><td>Eastern Connection</td><td>15033.66</td></tr>",
                            "<tr><td>AROUT</td><td>Around the Horn</td><td>13806.50</td></tr>",
                            "<tr><td>OTTIK</td><td>Ottilies Kseladen</td><td>13157.50</td></tr>",
                            "<tr><td>RICAR</td><td>Ricardo Adocicados</td><td>12924.40</td></tr>",
                            "<tr><td>CHOPS</td><td>Chop-suey Chinese</td><td>12886.30</td></tr>",
                            "<tr><td>SPLIR</td><td>Split Rail Beer &amp; Ale</td><td>12489.70</td></tr>",
                            "<tr><td>GODOS</td><td>Godos Cocina Tpica</td><td>11830.10</td></tr>",
                            "<tr><td>FOLIG</td><td>Folies gourmandes</td><td>11666.90</td></tr>",
                            "<tr><td>TORTU</td><td>Tortuga Restaurante</td><td>10812.15</td></tr>",
                            "<tr><td>WANDK</td><td>Die Wandernde Kuh</td><td>10653.85</td></tr>",
                            "<tr><td>MAISD</td><td>Maison Dewey</td><td>10430.58</td></tr>",
                            "<tr><td>LAMAI</td><td>La maison d&#39;Asie</td><td>10272.35</td></tr>",
                            "<tr><td>VICTE</td><td>Victuailles en stock</td><td>9937.10</td></tr>",
                            "<tr><td>GOURL</td><td>Gourmet Lanchonetes</td><td>8702.23</td></tr>",
                            "<tr><td>MAGAA</td><td>Magazzini Alimentari Riuniti</td><td>7603.85</td></tr>",
                            "<tr><td>REGGC</td><td>Reggiani Caseifici</td><td>7555.60</td></tr>",
                            "<tr><td>ANTON</td><td>Antonio Moreno Taquera</td><td>7515.35</td></tr>",
                            "<tr><td>TRADH</td><td>Tradio Hipermercados</td><td>7310.62</td></tr>",
                            "<tr><td>FURIB</td><td>Furia Bacalhau e Frutos do Mar</td><td>7151.55</td></tr>",
                            "<tr><td>QUEDE</td><td>Que Delcia</td><td>6973.63</td></tr>",
                            "<tr><td>WELLI</td><td>Wellington Importadora</td><td>6480.70</td></tr>",
                            "<tr><td>ISLAT</td><td>Island Trading</td><td>6146.30</td></tr>",
                            "<tr><td>BSBEV</td><td>B&#39;s Beverages</td><td>6089.90</td></tr>",
                            "<tr><td>SANTG</td><td>Sant Gourmet</td><td>5735.15</td></tr>",
                            "<tr><td>PRINI</td><td>Princesa Isabel Vinhos</td><td>5317.10</td></tr>",
                            "<tr><td>BOLID</td><td>Blido Comidas preparadas</td><td>5297.80</td></tr>",
                            "<tr><td>MORGK</td><td>Morgenstern Gesundkost</td><td>5042.20</td></tr>",
                            "<tr><td>TOMSP</td><td>Toms Spezialitten</td><td>4954.00</td></tr>",
                            "<tr><td>ALFKI</td><td>Alfreds Futterkiste</td><td>4596.20</td></tr>",
                            "<tr><td>FAMIA</td><td>Familia Arquibaldo</td><td>4438.90</td></tr>",
                            "<tr><td>LONEP</td><td>Lonesome Pine Restaurant</td><td>4258.60</td></tr>",
                            "<tr><td>PERIC</td><td>Pericles Comidas clsicas</td><td>4242.20</td></tr>",
                            "<tr><td>COMMI</td><td>Comrcio Mineiro</td><td>3810.75</td></tr>",
                            "<tr><td>DRACD</td><td>Drachenblut Delikatessen</td><td>3763.21</td></tr>",
                            "<tr><td>WOLZA</td><td>Wolski  Zajazd</td><td>3531.95</td></tr>",
                            "<tr><td>LETSS</td><td>Let&#39;s Stop N Shop</td><td>3490.02</td></tr>",
                            "<tr><td>OCEAN</td><td>Ocano Atlntico Ltda.</td><td>3460.20</td></tr>",
                            "<tr><td>THEBI</td><td>The Big Cheese</td><td>3361.00</td></tr>",
                            "<tr><td>BLAUS</td><td>Blauer See Delikatessen</td><td>3239.80</td></tr>",
                            "<tr><td>FRANR</td><td>France restauration</td><td>3172.16</td></tr>",
                            "<tr><td>WILMK</td><td>Wilman Kala</td><td>3161.35</td></tr>",
                            "<tr><td>HUNGC</td><td>Hungry Coyote Import Store</td><td>3063.20</td></tr>",
                            "<tr><td>RANCH</td><td>Rancho grande</td><td>2844.10</td></tr>",
                            "<tr><td>SPECD</td><td>Spcialits du monde</td><td>2423.35</td></tr>",
                            "<tr><td>LACOR</td><td>La corne d&#39;abondance</td><td>1992.05</td></tr>",
                            "<tr><td>THECR</td><td>The Cracker Box</td><td>1947.24</td></tr>",
                            "<tr><td>CACTU</td><td>Cactus Comidas para llevar</td><td>1814.80</td></tr>",
                            "<tr><td>CONSH</td><td>Consolidated Holdings</td><td>1719.10</td></tr>",
                            "<tr><td>DUMON</td><td>Du monde entier</td><td>1615.90</td></tr>",
                            "<tr><td>TRAIH</td><td>Trail&#39;s Head Gourmet Provisioners</td><td>1571.20</td></tr>",
                            "<tr><td>FRANS</td><td>Franchi S.p.A.</td><td>1545.70</td></tr>",
                            "<tr><td>GROSR</td><td>GROSELLA-Restaurante</td><td>1488.70</td></tr>",
                            "<tr><td>VINET</td><td>Vins et alcools Chevalier</td><td>1480.00</td></tr>",
                            "<tr><td>ROMEY</td><td>Romero y tomillo</td><td>1467.29</td></tr>",
                            "<tr><td>ANATR</td><td>Ana Trujillo Emparedados y helados</td><td>1402.95</td></tr>",
                            "<tr><td>GALED</td><td>Galera del gastrnomo</td><td>836.70</td></tr>",
                            "<tr><td>NORTS</td><td>North/South</td><td>649.00</td></tr>",
                            "<tr><td>LAUGB</td><td>Laughing Bacchus Wine Cellars</td><td>522.50</td></tr>",
                            "<tr><td>LAZYK</td><td>Lazy K Kountry Store</td><td>357.00</td></tr>",
                            "<tr><td>CENTC</td><td>Centro comercial Moctezuma</td><td>100.80</td></tr>",
                            "</table>"
                        ]
                    }
                }
            ],
            "execution_count": 23
        },
        {
            "cell_type": "markdown",
            "source": [
                "### 8. Create a view to list products with their supplier and category names."
            ],
            "metadata": {
                "azdata_cell_guid": "d11ed709-7fa9-47a3-ad1d-4a043e61b198"
            },
            "attachments": {}
        },
        {
            "cell_type": "code",
            "source": [
                "CREATE VIEW ProductDetails AS\r\n",
                "SELECT \r\n",
                "    p.ProductID,\r\n",
                "    p.ProductName,\r\n",
                "    s.CompanyName AS SupplierName,\r\n",
                "    c.CategoryName\r\n",
                "FROM Products p\r\n",
                "INNER JOIN Suppliers s ON p.SupplierID = s.SupplierID\r\n",
                "INNER JOIN Categories c ON p.CategoryID = c.CategoryID;"
            ],
            "metadata": {
                "azdata_cell_guid": "0002b255-3fd3-41c2-877b-5fbf224813e6",
                "language": "sql"
            },
            "outputs": [
                {
                    "output_type": "display_data",
                    "data": {
                        "text/html": "Total execution time: 00:00:00.335"
                    },
                    "metadata": {}
                },
                {
                    "output_type": "error",
                    "evalue": "1050 (42S01): Table 'ProductDetails' already exists",
                    "ename": "",
                    "traceback": []
                }
            ],
            "execution_count": 24
        },
        {
            "cell_type": "code",
            "source": [
                "SELECT * FROM `ProductDetails` LIMIT 10;"
            ],
            "metadata": {
                "language": "sql",
                "azdata_cell_guid": "0998854b-228e-482a-a54a-a0adba2fc4ca"
            },
            "outputs": [
                {
                    "output_type": "display_data",
                    "data": {
                        "text/html": "(10 row(s) affected)"
                    },
                    "metadata": {}
                },
                {
                    "output_type": "display_data",
                    "data": {
                        "text/html": "Total execution time: 00:00:01.305"
                    },
                    "metadata": {}
                },
                {
                    "output_type": "execute_result",
                    "metadata": {},
                    "execution_count": 26,
                    "data": {
                        "application/vnd.dataresource+json": {
                            "schema": {
                                "fields": [
                                    {
                                        "name": "ProductID"
                                    },
                                    {
                                        "name": "ProductName"
                                    },
                                    {
                                        "name": "SupplierName"
                                    },
                                    {
                                        "name": "CategoryName"
                                    }
                                ]
                            },
                            "data": [
                                {
                                    "ProductID": "1",
                                    "ProductName": "Chai",
                                    "SupplierName": "Exotic Liquids",
                                    "CategoryName": "Beverages"
                                },
                                {
                                    "ProductID": "2",
                                    "ProductName": "Chang",
                                    "SupplierName": "Exotic Liquids",
                                    "CategoryName": "Beverages"
                                },
                                {
                                    "ProductID": "24",
                                    "ProductName": "Guaran Fantstica",
                                    "SupplierName": "Refrescos Americanas LTDA",
                                    "CategoryName": "Beverages"
                                },
                                {
                                    "ProductID": "34",
                                    "ProductName": "Sasquatch Ale",
                                    "SupplierName": "Bigfoot Breweries",
                                    "CategoryName": "Beverages"
                                },
                                {
                                    "ProductID": "35",
                                    "ProductName": "Steeleye Stout",
                                    "SupplierName": "Bigfoot Breweries",
                                    "CategoryName": "Beverages"
                                },
                                {
                                    "ProductID": "38",
                                    "ProductName": "Cte de Blaye",
                                    "SupplierName": "Aux joyeux ecclsiastiques",
                                    "CategoryName": "Beverages"
                                },
                                {
                                    "ProductID": "39",
                                    "ProductName": "Chartreuse verte",
                                    "SupplierName": "Aux joyeux ecclsiastiques",
                                    "CategoryName": "Beverages"
                                },
                                {
                                    "ProductID": "43",
                                    "ProductName": "Ipoh Coffee",
                                    "SupplierName": "Leka Trading",
                                    "CategoryName": "Beverages"
                                },
                                {
                                    "ProductID": "67",
                                    "ProductName": "Laughing Lumberjack Lager",
                                    "SupplierName": "Bigfoot Breweries",
                                    "CategoryName": "Beverages"
                                },
                                {
                                    "ProductID": "70",
                                    "ProductName": "Outback Lager",
                                    "SupplierName": "Pavlova, Ltd.",
                                    "CategoryName": "Beverages"
                                }
                            ]
                        },
                        "text/html": [
                            "<table>",
                            "<tr><th>ProductID</th><th>ProductName</th><th>SupplierName</th><th>CategoryName</th></tr>",
                            "<tr><td>1</td><td>Chai</td><td>Exotic Liquids</td><td>Beverages</td></tr>",
                            "<tr><td>2</td><td>Chang</td><td>Exotic Liquids</td><td>Beverages</td></tr>",
                            "<tr><td>24</td><td>Guaran Fantstica</td><td>Refrescos Americanas LTDA</td><td>Beverages</td></tr>",
                            "<tr><td>34</td><td>Sasquatch Ale</td><td>Bigfoot Breweries</td><td>Beverages</td></tr>",
                            "<tr><td>35</td><td>Steeleye Stout</td><td>Bigfoot Breweries</td><td>Beverages</td></tr>",
                            "<tr><td>38</td><td>Cte de Blaye</td><td>Aux joyeux ecclsiastiques</td><td>Beverages</td></tr>",
                            "<tr><td>39</td><td>Chartreuse verte</td><td>Aux joyeux ecclsiastiques</td><td>Beverages</td></tr>",
                            "<tr><td>43</td><td>Ipoh Coffee</td><td>Leka Trading</td><td>Beverages</td></tr>",
                            "<tr><td>67</td><td>Laughing Lumberjack Lager</td><td>Bigfoot Breweries</td><td>Beverages</td></tr>",
                            "<tr><td>70</td><td>Outback Lager</td><td>Pavlova, Ltd.</td><td>Beverages</td></tr>",
                            "</table>"
                        ]
                    }
                }
            ],
            "execution_count": 26
        },
        {
            "cell_type": "markdown",
            "source": [
                "### 9. Create a view to show customers who haven’t placed any orders."
            ],
            "metadata": {
                "language": "sql",
                "azdata_cell_guid": "925caae4-c8b6-46d0-ace1-61186322c547"
            },
            "attachments": {}
        },
        {
            "cell_type": "code",
            "source": [
                "CREATE VIEW CustomersWithoutOrders AS\r\n",
                "SELECT \r\n",
                "    c.CustomerID,\r\n",
                "    c.CompanyName,\r\n",
                "    c.ContactName,\r\n",
                "    c.City,\r\n",
                "    c.Country\r\n",
                "FROM Customers c\r\n",
                "LEFT JOIN Orders o ON c.CustomerID = o.CustomerID\r\n",
                "WHERE o.CustomerID IS NULL;"
            ],
            "metadata": {
                "language": "sql",
                "azdata_cell_guid": "a4831a49-a595-4e5e-8f0a-e8f252ba00b6"
            },
            "outputs": [
                {
                    "output_type": "display_data",
                    "data": {
                        "text/html": "Total execution time: 00:00:00.293"
                    },
                    "metadata": {}
                },
                {
                    "output_type": "error",
                    "evalue": "1050 (42S01): Table 'CustomersWithoutOrders' already exists",
                    "ename": "",
                    "traceback": []
                }
            ],
            "execution_count": 27
        },
        {
            "cell_type": "code",
            "source": [
                "SELECT * FROM CustomersWithoutOrders;"
            ],
            "metadata": {
                "language": "sql",
                "azdata_cell_guid": "45d0d0e1-dc19-40ff-bb3f-b0305132ad86"
            },
            "outputs": [
                {
                    "output_type": "display_data",
                    "data": {
                        "text/html": "(4 row(s) affected)"
                    },
                    "metadata": {}
                },
                {
                    "output_type": "display_data",
                    "data": {
                        "text/html": "Total execution time: 00:00:01.649"
                    },
                    "metadata": {}
                },
                {
                    "output_type": "execute_result",
                    "metadata": {},
                    "execution_count": 28,
                    "data": {
                        "application/vnd.dataresource+json": {
                            "schema": {
                                "fields": [
                                    {
                                        "name": "CustomerID"
                                    },
                                    {
                                        "name": "CompanyName"
                                    },
                                    {
                                        "name": "ContactName"
                                    },
                                    {
                                        "name": "City"
                                    },
                                    {
                                        "name": "Country"
                                    }
                                ]
                            },
                            "data": [
                                {
                                    "CustomerID": "FISSA",
                                    "CompanyName": "FISSA Fabrica Inter. Salchichas S.A.",
                                    "ContactName": "Diego Roel",
                                    "City": "Madrid",
                                    "Country": "Spain"
                                },
                                {
                                    "CustomerID": "PARIS",
                                    "CompanyName": "Paris spcialits",
                                    "ContactName": "Marie Bertrand",
                                    "City": "Paris",
                                    "Country": "France"
                                },
                                {
                                    "CustomerID": "Val2 ",
                                    "CompanyName": "IT",
                                    "ContactName": "Val2",
                                    "City": "NULL",
                                    "Country": "NULL"
                                },
                                {
                                    "CustomerID": "VALON",
                                    "CompanyName": "IT",
                                    "ContactName": "Valon Hoti",
                                    "City": "NULL",
                                    "Country": "NULL"
                                }
                            ]
                        },
                        "text/html": [
                            "<table>",
                            "<tr><th>CustomerID</th><th>CompanyName</th><th>ContactName</th><th>City</th><th>Country</th></tr>",
                            "<tr><td>FISSA</td><td>FISSA Fabrica Inter. Salchichas S.A.</td><td>Diego Roel</td><td>Madrid</td><td>Spain</td></tr>",
                            "<tr><td>PARIS</td><td>Paris spcialits</td><td>Marie Bertrand</td><td>Paris</td><td>France</td></tr>",
                            "<tr><td>Val2 </td><td>IT</td><td>Val2</td><td>NULL</td><td>NULL</td></tr>",
                            "<tr><td>VALON</td><td>IT</td><td>Valon Hoti</td><td>NULL</td><td>NULL</td></tr>",
                            "</table>"
                        ]
                    }
                }
            ],
            "execution_count": 28
        },
        {
            "cell_type": "markdown",
            "source": [
                "### 10. Create a view that uses the view from question 7, but only showing customers with revenue > 10000."
            ],
            "metadata": {
                "language": "sql",
                "azdata_cell_guid": "abb778cc-7c40-4b04-aba6-84787182d32c"
            },
            "attachments": {}
        },
        {
            "cell_type": "code",
            "source": [
                "CREATE VIEW HighValueCustomers AS\r\n",
                "SELECT *\r\n",
                "FROM CustomerTotalRevenue\r\n",
                "WHERE TotalRevenue > 10000;"
            ],
            "metadata": {
                "language": "sql",
                "azdata_cell_guid": "59f3529e-ebca-4547-a5d6-44d63d5abb7f"
            },
            "outputs": [],
            "execution_count": null
        },
        {
            "cell_type": "code",
            "source": [
                "SELECT * FROM HighValueCustomers\r\n",
                "ORDER BY TotalRevenue DESC;"
            ],
            "metadata": {
                "language": "sql",
                "azdata_cell_guid": "c6073382-9c92-45b8-8bbe-4adab432de5c"
            },
            "outputs": [],
            "execution_count": null
        },
        {
            "cell_type": "markdown",
            "source": [
                "### 11. Revenue by product type"
            ],
            "metadata": {
                "language": "sql",
                "azdata_cell_guid": "da2902e7-443e-4df3-a693-333d4914d45f"
            },
            "attachments": {}
        },
        {
            "cell_type": "code",
            "source": [
                "CREATE VIEW RevenueByProductType AS\r\n",
                "SELECT \r\n",
                "    c.CategoryName,\r\n",
                "    ROUND(SUM(od.UnitPrice * od.Quantity), 2) AS TotalRevenue\r\n",
                "FROM Orders o\r\n",
                "INNER JOIN OrderDetails od ON o.OrderID = od.OrderID\r\n",
                "INNER JOIN Products p ON od.ProductID = p.ProductID\r\n",
                "INNER JOIN Categories c ON p.CategoryID = c.CategoryID\r\n",
                "GROUP BY c.CategoryName\r\n",
                "ORDER BY TotalRevenue DESC;"
            ],
            "metadata": {
                "language": "sql",
                "azdata_cell_guid": "0439ce0e-1886-494a-a9e8-23730ea276f7"
            },
            "outputs": [
                {
                    "output_type": "display_data",
                    "data": {
                        "text/html": "Total execution time: 00:00:00.300"
                    },
                    "metadata": {}
                },
                {
                    "output_type": "error",
                    "evalue": "1050 (42S01): Table 'RevenueByProductType' already exists",
                    "ename": "",
                    "traceback": []
                }
            ],
            "execution_count": 29
        },
        {
            "cell_type": "code",
            "source": [
                "SELECT * FROM RevenueByProductType;"
            ],
            "metadata": {
                "language": "sql",
                "azdata_cell_guid": "117379f8-4e8d-40b4-89d3-3c89a4773570"
            },
            "outputs": [
                {
                    "output_type": "display_data",
                    "data": {
                        "text/html": "(8 row(s) affected)"
                    },
                    "metadata": {}
                },
                {
                    "output_type": "display_data",
                    "data": {
                        "text/html": "Total execution time: 00:00:01.312"
                    },
                    "metadata": {}
                },
                {
                    "output_type": "execute_result",
                    "metadata": {},
                    "execution_count": 30,
                    "data": {
                        "application/vnd.dataresource+json": {
                            "schema": {
                                "fields": [
                                    {
                                        "name": "CategoryName"
                                    },
                                    {
                                        "name": "TotalRevenue"
                                    }
                                ]
                            },
                            "data": [
                                {
                                    "CategoryName": "Beverages",
                                    "TotalRevenue": "286526.95"
                                },
                                {
                                    "CategoryName": "Dairy Products",
                                    "TotalRevenue": "251330.50"
                                },
                                {
                                    "CategoryName": "Meat/Poultry",
                                    "TotalRevenue": "178188.80"
                                },
                                {
                                    "CategoryName": "Confections",
                                    "TotalRevenue": "177099.10"
                                },
                                {
                                    "CategoryName": "Seafood",
                                    "TotalRevenue": "141623.09"
                                },
                                {
                                    "CategoryName": "Condiments",
                                    "TotalRevenue": "113694.75"
                                },
                                {
                                    "CategoryName": "Produce",
                                    "TotalRevenue": "105268.60"
                                },
                                {
                                    "CategoryName": "Grains/Cereals",
                                    "TotalRevenue": "100726.80"
                                }
                            ]
                        },
                        "text/html": [
                            "<table>",
                            "<tr><th>CategoryName</th><th>TotalRevenue</th></tr>",
                            "<tr><td>Beverages</td><td>286526.95</td></tr>",
                            "<tr><td>Dairy Products</td><td>251330.50</td></tr>",
                            "<tr><td>Meat/Poultry</td><td>178188.80</td></tr>",
                            "<tr><td>Confections</td><td>177099.10</td></tr>",
                            "<tr><td>Seafood</td><td>141623.09</td></tr>",
                            "<tr><td>Condiments</td><td>113694.75</td></tr>",
                            "<tr><td>Produce</td><td>105268.60</td></tr>",
                            "<tr><td>Grains/Cereals</td><td>100726.80</td></tr>",
                            "</table>"
                        ]
                    }
                }
            ],
            "execution_count": 30
        }
    ]
}